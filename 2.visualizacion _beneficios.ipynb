{
 "cells": [
  {
   "cell_type": "code",
   "execution_count": 1,
   "metadata": {},
   "outputs": [],
   "source": [
    "# Importar modulos a emplear\n",
    "import pandas as pd\n",
    "import seaborn as sns\n",
    "import matplotlib.pyplot as plt\n",
    "import plotly.express as px\n",
    "import os\n",
    "\n",
    "# Definir la ruta base y cargar los datos limpios\n",
    "base_dir = os.getcwd()\n",
    "procesados_dir = os.path.join(base_dir, \"data\", \"procesados\")"
   ]
  },
  {
   "cell_type": "markdown",
   "metadata": {},
   "source": [
    "# Importamos el dato limpio"
   ]
  },
  {
   "cell_type": "code",
   "execution_count": 2,
   "metadata": {},
   "outputs": [],
   "source": [
    "# Cargar los datos limpios\n",
    "ventas_df = pd.read_csv(os.path.join(procesados_dir, \"ventas_limpio.csv\"))\n",
    "productos_df = pd.read_csv(os.path.join(procesados_dir, \"productos_limpio.csv\"))\n",
    "ciudad_df = pd.read_csv(os.path.join(procesados_dir, \"ciudad_limpio.csv\"))"
   ]
  },
  {
   "cell_type": "markdown",
   "metadata": {},
   "source": [
    "# Union de tablas"
   ]
  },
  {
   "cell_type": "code",
   "execution_count": 3,
   "metadata": {},
   "outputs": [],
   "source": [
    "# Unir las tablas\n",
    "# Unir ventas con productos (por Cod_Producto)\n",
    "ventas_productos = pd.merge(ventas_df, productos_df, on=\"cod_producto\")\n",
    "\n",
    "# Unir el resultado con ciudad (por Cod_Ciudad)\n",
    "ventas_completa = pd.merge(ventas_productos, ciudad_df, on=\"cod_ciudad\")"
   ]
  },
  {
   "cell_type": "code",
   "execution_count": 4,
   "metadata": {},
   "outputs": [
    {
     "name": "stdout",
     "output_type": "stream",
     "text": [
      "Resumen Total del Negocio:\n",
      "Ingresos       27635500.0\n",
      "Costo_Total     5231050.0\n",
      "Beneficio      22404450.0\n",
      "dtype: float64\n"
     ]
    }
   ],
   "source": [
    "# Calcular ingresos, costos y beneficios\n",
    "ventas_completa[\"Ingresos\"] = ventas_completa[\"precio_unitario\"] * ventas_completa[\"unidades_vendidas\"]\n",
    "ventas_completa[\"Costo_Total\"] = (\n",
    "    (ventas_completa[\"costo_unitario\"] * ventas_completa[\"unidades_vendidas\"])\n",
    "    + ventas_completa[\"costo_asociado_al_domicilio\"]\n",
    ")\n",
    "ventas_completa[\"Beneficio\"] = ventas_completa[\"Ingresos\"] - ventas_completa[\"Costo_Total\"]\n",
    "\n",
    "# Resumen total\n",
    "resumen_total = ventas_completa[[\"Ingresos\", \"Costo_Total\", \"Beneficio\"]].sum()\n",
    "print(\"Resumen Total del Negocio:\")\n",
    "print(resumen_total)"
   ]
  },
  {
   "cell_type": "markdown",
   "metadata": {},
   "source": [
    "# Graficas"
   ]
  },
  {
   "cell_type": "code",
   "execution_count": 5,
   "metadata": {},
   "outputs": [
    {
     "data": {
      "application/vnd.plotly.v1+json": {
       "config": {
        "plotlyServerURL": "https://plot.ly"
       },
       "data": [
        {
         "alignmentgroup": "True",
         "hovertemplate": "Concepto=%{x}<br>Monto ($)=%{text}<extra></extra>",
         "legendgroup": "Ingresos",
         "marker": {
          "color": "#636efa",
          "pattern": {
           "shape": ""
          }
         },
         "name": "Ingresos",
         "offsetgroup": "Ingresos",
         "orientation": "v",
         "showlegend": true,
         "text": [
          27635500
         ],
         "textposition": "outside",
         "texttemplate": "%{text:.2s}",
         "type": "bar",
         "x": [
          "Ingresos"
         ],
         "xaxis": "x",
         "y": [
          27635500
         ],
         "yaxis": "y"
        },
        {
         "alignmentgroup": "True",
         "hovertemplate": "Concepto=%{x}<br>Monto ($)=%{text}<extra></extra>",
         "legendgroup": "Costo_Total",
         "marker": {
          "color": "#EF553B",
          "pattern": {
           "shape": ""
          }
         },
         "name": "Costo_Total",
         "offsetgroup": "Costo_Total",
         "orientation": "v",
         "showlegend": true,
         "text": [
          5231050
         ],
         "textposition": "outside",
         "texttemplate": "%{text:.2s}",
         "type": "bar",
         "x": [
          "Costo_Total"
         ],
         "xaxis": "x",
         "y": [
          5231050
         ],
         "yaxis": "y"
        },
        {
         "alignmentgroup": "True",
         "hovertemplate": "Concepto=%{x}<br>Monto ($)=%{text}<extra></extra>",
         "legendgroup": "Beneficio",
         "marker": {
          "color": "#00cc96",
          "pattern": {
           "shape": ""
          }
         },
         "name": "Beneficio",
         "offsetgroup": "Beneficio",
         "orientation": "v",
         "showlegend": true,
         "text": [
          22404450
         ],
         "textposition": "outside",
         "texttemplate": "%{text:.2s}",
         "type": "bar",
         "x": [
          "Beneficio"
         ],
         "xaxis": "x",
         "y": [
          22404450
         ],
         "yaxis": "y"
        }
       ],
       "layout": {
        "barmode": "relative",
        "legend": {
         "title": {
          "text": "Concepto"
         },
         "tracegroupgap": 0
        },
        "template": {
         "data": {
          "bar": [
           {
            "error_x": {
             "color": "#2a3f5f"
            },
            "error_y": {
             "color": "#2a3f5f"
            },
            "marker": {
             "line": {
              "color": "#E5ECF6",
              "width": 0.5
             },
             "pattern": {
              "fillmode": "overlay",
              "size": 10,
              "solidity": 0.2
             }
            },
            "type": "bar"
           }
          ],
          "barpolar": [
           {
            "marker": {
             "line": {
              "color": "#E5ECF6",
              "width": 0.5
             },
             "pattern": {
              "fillmode": "overlay",
              "size": 10,
              "solidity": 0.2
             }
            },
            "type": "barpolar"
           }
          ],
          "carpet": [
           {
            "aaxis": {
             "endlinecolor": "#2a3f5f",
             "gridcolor": "white",
             "linecolor": "white",
             "minorgridcolor": "white",
             "startlinecolor": "#2a3f5f"
            },
            "baxis": {
             "endlinecolor": "#2a3f5f",
             "gridcolor": "white",
             "linecolor": "white",
             "minorgridcolor": "white",
             "startlinecolor": "#2a3f5f"
            },
            "type": "carpet"
           }
          ],
          "choropleth": [
           {
            "colorbar": {
             "outlinewidth": 0,
             "ticks": ""
            },
            "type": "choropleth"
           }
          ],
          "contour": [
           {
            "colorbar": {
             "outlinewidth": 0,
             "ticks": ""
            },
            "colorscale": [
             [
              0,
              "#0d0887"
             ],
             [
              0.1111111111111111,
              "#46039f"
             ],
             [
              0.2222222222222222,
              "#7201a8"
             ],
             [
              0.3333333333333333,
              "#9c179e"
             ],
             [
              0.4444444444444444,
              "#bd3786"
             ],
             [
              0.5555555555555556,
              "#d8576b"
             ],
             [
              0.6666666666666666,
              "#ed7953"
             ],
             [
              0.7777777777777778,
              "#fb9f3a"
             ],
             [
              0.8888888888888888,
              "#fdca26"
             ],
             [
              1,
              "#f0f921"
             ]
            ],
            "type": "contour"
           }
          ],
          "contourcarpet": [
           {
            "colorbar": {
             "outlinewidth": 0,
             "ticks": ""
            },
            "type": "contourcarpet"
           }
          ],
          "heatmap": [
           {
            "colorbar": {
             "outlinewidth": 0,
             "ticks": ""
            },
            "colorscale": [
             [
              0,
              "#0d0887"
             ],
             [
              0.1111111111111111,
              "#46039f"
             ],
             [
              0.2222222222222222,
              "#7201a8"
             ],
             [
              0.3333333333333333,
              "#9c179e"
             ],
             [
              0.4444444444444444,
              "#bd3786"
             ],
             [
              0.5555555555555556,
              "#d8576b"
             ],
             [
              0.6666666666666666,
              "#ed7953"
             ],
             [
              0.7777777777777778,
              "#fb9f3a"
             ],
             [
              0.8888888888888888,
              "#fdca26"
             ],
             [
              1,
              "#f0f921"
             ]
            ],
            "type": "heatmap"
           }
          ],
          "heatmapgl": [
           {
            "colorbar": {
             "outlinewidth": 0,
             "ticks": ""
            },
            "colorscale": [
             [
              0,
              "#0d0887"
             ],
             [
              0.1111111111111111,
              "#46039f"
             ],
             [
              0.2222222222222222,
              "#7201a8"
             ],
             [
              0.3333333333333333,
              "#9c179e"
             ],
             [
              0.4444444444444444,
              "#bd3786"
             ],
             [
              0.5555555555555556,
              "#d8576b"
             ],
             [
              0.6666666666666666,
              "#ed7953"
             ],
             [
              0.7777777777777778,
              "#fb9f3a"
             ],
             [
              0.8888888888888888,
              "#fdca26"
             ],
             [
              1,
              "#f0f921"
             ]
            ],
            "type": "heatmapgl"
           }
          ],
          "histogram": [
           {
            "marker": {
             "pattern": {
              "fillmode": "overlay",
              "size": 10,
              "solidity": 0.2
             }
            },
            "type": "histogram"
           }
          ],
          "histogram2d": [
           {
            "colorbar": {
             "outlinewidth": 0,
             "ticks": ""
            },
            "colorscale": [
             [
              0,
              "#0d0887"
             ],
             [
              0.1111111111111111,
              "#46039f"
             ],
             [
              0.2222222222222222,
              "#7201a8"
             ],
             [
              0.3333333333333333,
              "#9c179e"
             ],
             [
              0.4444444444444444,
              "#bd3786"
             ],
             [
              0.5555555555555556,
              "#d8576b"
             ],
             [
              0.6666666666666666,
              "#ed7953"
             ],
             [
              0.7777777777777778,
              "#fb9f3a"
             ],
             [
              0.8888888888888888,
              "#fdca26"
             ],
             [
              1,
              "#f0f921"
             ]
            ],
            "type": "histogram2d"
           }
          ],
          "histogram2dcontour": [
           {
            "colorbar": {
             "outlinewidth": 0,
             "ticks": ""
            },
            "colorscale": [
             [
              0,
              "#0d0887"
             ],
             [
              0.1111111111111111,
              "#46039f"
             ],
             [
              0.2222222222222222,
              "#7201a8"
             ],
             [
              0.3333333333333333,
              "#9c179e"
             ],
             [
              0.4444444444444444,
              "#bd3786"
             ],
             [
              0.5555555555555556,
              "#d8576b"
             ],
             [
              0.6666666666666666,
              "#ed7953"
             ],
             [
              0.7777777777777778,
              "#fb9f3a"
             ],
             [
              0.8888888888888888,
              "#fdca26"
             ],
             [
              1,
              "#f0f921"
             ]
            ],
            "type": "histogram2dcontour"
           }
          ],
          "mesh3d": [
           {
            "colorbar": {
             "outlinewidth": 0,
             "ticks": ""
            },
            "type": "mesh3d"
           }
          ],
          "parcoords": [
           {
            "line": {
             "colorbar": {
              "outlinewidth": 0,
              "ticks": ""
             }
            },
            "type": "parcoords"
           }
          ],
          "pie": [
           {
            "automargin": true,
            "type": "pie"
           }
          ],
          "scatter": [
           {
            "fillpattern": {
             "fillmode": "overlay",
             "size": 10,
             "solidity": 0.2
            },
            "type": "scatter"
           }
          ],
          "scatter3d": [
           {
            "line": {
             "colorbar": {
              "outlinewidth": 0,
              "ticks": ""
             }
            },
            "marker": {
             "colorbar": {
              "outlinewidth": 0,
              "ticks": ""
             }
            },
            "type": "scatter3d"
           }
          ],
          "scattercarpet": [
           {
            "marker": {
             "colorbar": {
              "outlinewidth": 0,
              "ticks": ""
             }
            },
            "type": "scattercarpet"
           }
          ],
          "scattergeo": [
           {
            "marker": {
             "colorbar": {
              "outlinewidth": 0,
              "ticks": ""
             }
            },
            "type": "scattergeo"
           }
          ],
          "scattergl": [
           {
            "marker": {
             "colorbar": {
              "outlinewidth": 0,
              "ticks": ""
             }
            },
            "type": "scattergl"
           }
          ],
          "scattermapbox": [
           {
            "marker": {
             "colorbar": {
              "outlinewidth": 0,
              "ticks": ""
             }
            },
            "type": "scattermapbox"
           }
          ],
          "scatterpolar": [
           {
            "marker": {
             "colorbar": {
              "outlinewidth": 0,
              "ticks": ""
             }
            },
            "type": "scatterpolar"
           }
          ],
          "scatterpolargl": [
           {
            "marker": {
             "colorbar": {
              "outlinewidth": 0,
              "ticks": ""
             }
            },
            "type": "scatterpolargl"
           }
          ],
          "scatterternary": [
           {
            "marker": {
             "colorbar": {
              "outlinewidth": 0,
              "ticks": ""
             }
            },
            "type": "scatterternary"
           }
          ],
          "surface": [
           {
            "colorbar": {
             "outlinewidth": 0,
             "ticks": ""
            },
            "colorscale": [
             [
              0,
              "#0d0887"
             ],
             [
              0.1111111111111111,
              "#46039f"
             ],
             [
              0.2222222222222222,
              "#7201a8"
             ],
             [
              0.3333333333333333,
              "#9c179e"
             ],
             [
              0.4444444444444444,
              "#bd3786"
             ],
             [
              0.5555555555555556,
              "#d8576b"
             ],
             [
              0.6666666666666666,
              "#ed7953"
             ],
             [
              0.7777777777777778,
              "#fb9f3a"
             ],
             [
              0.8888888888888888,
              "#fdca26"
             ],
             [
              1,
              "#f0f921"
             ]
            ],
            "type": "surface"
           }
          ],
          "table": [
           {
            "cells": {
             "fill": {
              "color": "#EBF0F8"
             },
             "line": {
              "color": "white"
             }
            },
            "header": {
             "fill": {
              "color": "#C8D4E3"
             },
             "line": {
              "color": "white"
             }
            },
            "type": "table"
           }
          ]
         },
         "layout": {
          "annotationdefaults": {
           "arrowcolor": "#2a3f5f",
           "arrowhead": 0,
           "arrowwidth": 1
          },
          "autotypenumbers": "strict",
          "coloraxis": {
           "colorbar": {
            "outlinewidth": 0,
            "ticks": ""
           }
          },
          "colorscale": {
           "diverging": [
            [
             0,
             "#8e0152"
            ],
            [
             0.1,
             "#c51b7d"
            ],
            [
             0.2,
             "#de77ae"
            ],
            [
             0.3,
             "#f1b6da"
            ],
            [
             0.4,
             "#fde0ef"
            ],
            [
             0.5,
             "#f7f7f7"
            ],
            [
             0.6,
             "#e6f5d0"
            ],
            [
             0.7,
             "#b8e186"
            ],
            [
             0.8,
             "#7fbc41"
            ],
            [
             0.9,
             "#4d9221"
            ],
            [
             1,
             "#276419"
            ]
           ],
           "sequential": [
            [
             0,
             "#0d0887"
            ],
            [
             0.1111111111111111,
             "#46039f"
            ],
            [
             0.2222222222222222,
             "#7201a8"
            ],
            [
             0.3333333333333333,
             "#9c179e"
            ],
            [
             0.4444444444444444,
             "#bd3786"
            ],
            [
             0.5555555555555556,
             "#d8576b"
            ],
            [
             0.6666666666666666,
             "#ed7953"
            ],
            [
             0.7777777777777778,
             "#fb9f3a"
            ],
            [
             0.8888888888888888,
             "#fdca26"
            ],
            [
             1,
             "#f0f921"
            ]
           ],
           "sequentialminus": [
            [
             0,
             "#0d0887"
            ],
            [
             0.1111111111111111,
             "#46039f"
            ],
            [
             0.2222222222222222,
             "#7201a8"
            ],
            [
             0.3333333333333333,
             "#9c179e"
            ],
            [
             0.4444444444444444,
             "#bd3786"
            ],
            [
             0.5555555555555556,
             "#d8576b"
            ],
            [
             0.6666666666666666,
             "#ed7953"
            ],
            [
             0.7777777777777778,
             "#fb9f3a"
            ],
            [
             0.8888888888888888,
             "#fdca26"
            ],
            [
             1,
             "#f0f921"
            ]
           ]
          },
          "colorway": [
           "#636efa",
           "#EF553B",
           "#00cc96",
           "#ab63fa",
           "#FFA15A",
           "#19d3f3",
           "#FF6692",
           "#B6E880",
           "#FF97FF",
           "#FECB52"
          ],
          "font": {
           "color": "#2a3f5f"
          },
          "geo": {
           "bgcolor": "white",
           "lakecolor": "white",
           "landcolor": "#E5ECF6",
           "showlakes": true,
           "showland": true,
           "subunitcolor": "white"
          },
          "hoverlabel": {
           "align": "left"
          },
          "hovermode": "closest",
          "mapbox": {
           "style": "light"
          },
          "paper_bgcolor": "white",
          "plot_bgcolor": "#E5ECF6",
          "polar": {
           "angularaxis": {
            "gridcolor": "white",
            "linecolor": "white",
            "ticks": ""
           },
           "bgcolor": "#E5ECF6",
           "radialaxis": {
            "gridcolor": "white",
            "linecolor": "white",
            "ticks": ""
           }
          },
          "scene": {
           "xaxis": {
            "backgroundcolor": "#E5ECF6",
            "gridcolor": "white",
            "gridwidth": 2,
            "linecolor": "white",
            "showbackground": true,
            "ticks": "",
            "zerolinecolor": "white"
           },
           "yaxis": {
            "backgroundcolor": "#E5ECF6",
            "gridcolor": "white",
            "gridwidth": 2,
            "linecolor": "white",
            "showbackground": true,
            "ticks": "",
            "zerolinecolor": "white"
           },
           "zaxis": {
            "backgroundcolor": "#E5ECF6",
            "gridcolor": "white",
            "gridwidth": 2,
            "linecolor": "white",
            "showbackground": true,
            "ticks": "",
            "zerolinecolor": "white"
           }
          },
          "shapedefaults": {
           "line": {
            "color": "#2a3f5f"
           }
          },
          "ternary": {
           "aaxis": {
            "gridcolor": "white",
            "linecolor": "white",
            "ticks": ""
           },
           "baxis": {
            "gridcolor": "white",
            "linecolor": "white",
            "ticks": ""
           },
           "bgcolor": "#E5ECF6",
           "caxis": {
            "gridcolor": "white",
            "linecolor": "white",
            "ticks": ""
           }
          },
          "title": {
           "x": 0.05
          },
          "xaxis": {
           "automargin": true,
           "gridcolor": "white",
           "linecolor": "white",
           "ticks": "",
           "title": {
            "standoff": 15
           },
           "zerolinecolor": "white",
           "zerolinewidth": 2
          },
          "yaxis": {
           "automargin": true,
           "gridcolor": "white",
           "linecolor": "white",
           "ticks": "",
           "title": {
            "standoff": 15
           },
           "zerolinecolor": "white",
           "zerolinewidth": 2
          }
         }
        },
        "title": {
         "text": "Ingresos vs Costos vs Beneficio (Total)"
        },
        "xaxis": {
         "anchor": "y",
         "categoryarray": [
          "Ingresos",
          "Costo_Total",
          "Beneficio"
         ],
         "categoryorder": "array",
         "domain": [
          0,
          1
         ],
         "title": {
          "text": "Concepto"
         }
        },
        "yaxis": {
         "anchor": "x",
         "domain": [
          0,
          1
         ],
         "title": {
          "text": "Monto ($)"
         }
        }
       }
      }
     },
     "metadata": {},
     "output_type": "display_data"
    }
   ],
   "source": [
    "# Gráfico interactivo: Comparación general de ingresos, costos y beneficios\n",
    "resumen_total_df = resumen_total.reset_index()\n",
    "resumen_total_df.columns = [\"Concepto\", \"Monto\"]\n",
    "\n",
    "fig = px.bar(\n",
    "    resumen_total_df,\n",
    "    x=\"Concepto\",\n",
    "    y=\"Monto\",\n",
    "    color=\"Concepto\",\n",
    "    title=\"Ingresos vs Costos vs Beneficio (Total)\",\n",
    "    text=\"Monto\",\n",
    "    labels={\"Monto\": \"Monto ($)\", \"Concepto\": \"Concepto\"}\n",
    ")\n",
    "fig.update_traces(texttemplate=\"%{text:.2s}\", textposition=\"outside\")\n",
    "fig.update_layout(yaxis_title=\"Monto ($)\", xaxis_title=\"Concepto\")\n",
    "fig.show()"
   ]
  },
  {
   "cell_type": "code",
   "execution_count": 10,
   "metadata": {},
   "outputs": [
    {
     "data": {
      "image/png": "[encoded data removed]",
      "text/plain": [
       "<Figure size 800x600 with 1 Axes>"
      ]
     },
     "metadata": {},
     "output_type": "display_data"
    }
   ],
   "source": [
    "# Beneficio por categoría\n",
    "beneficio_categoria_df = ventas_completa.groupby(\"categoria\")[[\"Beneficio\"]].sum().reset_index()\n",
    "\n",
    "plt.figure(figsize=(8, 6))\n",
    "sns.barplot(data=beneficio_categoria_df, x=\"categoria\", y=\"Beneficio\", palette=\"Blues_d\", hue=\"categoria\", dodge=False)\n",
    "plt.title(\"Beneficio por Categoría de Producto\")\n",
    "plt.xlabel(\"Categoría\")\n",
    "plt.ylabel(\"Beneficio ($)\")\n",
    "plt.xticks(rotation=45)\n",
    "plt.legend([],[], frameon=False)  # Quitar la leyenda si no es necesaria\n",
    "plt.show()"
   ]
  },
  {
   "cell_type": "code",
   "execution_count": 11,
   "metadata": {},
   "outputs": [
    {
     "data": {
      "image/png": "[encoded data removed]",
      "text/plain": [
       "<Figure size 1000x600 with 2 Axes>"
      ]
     },
     "metadata": {},
     "output_type": "display_data"
    }
   ],
   "source": [
    "# Beneficio por ciudad y categoría\n",
    "beneficio_ciudad_categoria = ventas_completa.pivot_table(\n",
    "    values=\"Beneficio\", index=\"ciudad\", columns=\"categoria\", aggfunc=\"sum\", fill_value=0\n",
    ")\n",
    "\n",
    "plt.figure(figsize=(10, 6))\n",
    "sns.heatmap(beneficio_ciudad_categoria, annot=True, fmt=\".0f\", cmap=\"Blues\", linewidths=0.5)\n",
    "plt.title(\"Beneficio por Ciudad y Categoría\")\n",
    "plt.xlabel(\"Categoría\")\n",
    "plt.ylabel(\"Ciudad\")\n",
    "plt.show()"
   ]
  },
  {
   "cell_type": "code",
   "execution_count": 12,
   "metadata": {},
   "outputs": [
    {
     "data": {
      "image/png": "[encoded data removed]",
      "text/plain": [
       "<Figure size 800x600 with 1 Axes>"
      ]
     },
     "metadata": {},
     "output_type": "display_data"
    }
   ],
   "source": [
    "plt.figure(figsize=(8, 6))\n",
    "sns.histplot(ventas_completa[\"Beneficio\"], bins=20, kde=True, color=\"blue\", alpha=0.7)\n",
    "plt.title(\"Distribución del Beneficio\")\n",
    "plt.xlabel(\"Beneficio ($)\")\n",
    "plt.ylabel(\"Frecuencia\")\n",
    "plt.show()"
   ]
  },
  {
   "cell_type": "code",
   "execution_count": 16,
   "metadata": {},
   "outputs": [
    {
     "data": {
      "application/vnd.plotly.v1+json": {
       "config": {
        "plotlyServerURL": "https://plot.ly"
       },
       "data": [
        {
         "alignmentgroup": "True",
         "hovertemplate": "ciudad=%{x}<br>Beneficio ($)=%{text}<extra></extra>",
         "legendgroup": "BOGOTA",
         "marker": {
          "color": "#636efa",
          "pattern": {
           "shape": ""
          }
         },
         "name": "BOGOTA",
         "offsetgroup": "BOGOTA",
         "orientation": "v",
         "showlegend": true,
         "text": [
          4596360
         ],
         "textposition": "outside",
         "texttemplate": "%{text:.2s}",
         "type": "bar",
         "x": [
          "BOGOTA"
         ],
         "xaxis": "x",
         "y": [
          4596360
         ],
         "yaxis": "y"
        },
        {
         "alignmentgroup": "True",
         "hovertemplate": "ciudad=%{x}<br>Beneficio ($)=%{text}<extra></extra>",
         "legendgroup": "LEÓN",
         "marker": {
          "color": "#EF553B",
          "pattern": {
           "shape": ""
          }
         },
         "name": "LEÓN",
         "offsetgroup": "LEÓN",
         "orientation": "v",
         "showlegend": true,
         "text": [
          4335480
         ],
         "textposition": "outside",
         "texttemplate": "%{text:.2s}",
         "type": "bar",
         "x": [
          "LEÓN"
         ],
         "xaxis": "x",
         "y": [
          4335480
         ],
         "yaxis": "y"
        },
        {
         "alignmentgroup": "True",
         "hovertemplate": "ciudad=%{x}<br>Beneficio ($)=%{text}<extra></extra>",
         "legendgroup": "LIMA",
         "marker": {
          "color": "#00cc96",
          "pattern": {
           "shape": ""
          }
         },
         "name": "LIMA",
         "offsetgroup": "LIMA",
         "orientation": "v",
         "showlegend": true,
         "text": [
          4456640
         ],
         "textposition": "outside",
         "texttemplate": "%{text:.2s}",
         "type": "bar",
         "x": [
          "LIMA"
         ],
         "xaxis": "x",
         "y": [
          4456640
         ],
         "yaxis": "y"
        },
        {
         "alignmentgroup": "True",
         "hovertemplate": "ciudad=%{x}<br>Beneficio ($)=%{text}<extra></extra>",
         "legendgroup": "MADRID",
         "marker": {
          "color": "#ab63fa",
          "pattern": {
           "shape": ""
          }
         },
         "name": "MADRID",
         "offsetgroup": "MADRID",
         "orientation": "v",
         "showlegend": true,
         "text": [
          4275260
         ],
         "textposition": "outside",
         "texttemplate": "%{text:.2s}",
         "type": "bar",
         "x": [
          "MADRID"
         ],
         "xaxis": "x",
         "y": [
          4275260
         ],
         "yaxis": "y"
        },
        {
         "alignmentgroup": "True",
         "hovertemplate": "ciudad=%{x}<br>Beneficio ($)=%{text}<extra></extra>",
         "legendgroup": "MONTERREY",
         "marker": {
          "color": "#FFA15A",
          "pattern": {
           "shape": ""
          }
         },
         "name": "MONTERREY",
         "offsetgroup": "MONTERREY",
         "orientation": "v",
         "showlegend": true,
         "text": [
          4740710
         ],
         "textposition": "outside",
         "texttemplate": "%{text:.2s}",
         "type": "bar",
         "x": [
          "MONTERREY"
         ],
         "xaxis": "x",
         "y": [
          4740710
         ],
         "yaxis": "y"
        }
       ],
       "layout": {
        "barmode": "relative",
        "legend": {
         "title": {
          "text": "ciudad"
         },
         "tracegroupgap": 0
        },
        "template": {
         "data": {
          "bar": [
           {
            "error_x": {
             "color": "#2a3f5f"
            },
            "error_y": {
             "color": "#2a3f5f"
            },
            "marker": {
             "line": {
              "color": "#E5ECF6",
              "width": 0.5
             },
             "pattern": {
              "fillmode": "overlay",
              "size": 10,
              "solidity": 0.2
             }
            },
            "type": "bar"
           }
          ],
          "barpolar": [
           {
            "marker": {
             "line": {
              "color": "#E5ECF6",
              "width": 0.5
             },
             "pattern": {
              "fillmode": "overlay",
              "size": 10,
              "solidity": 0.2
             }
            },
            "type": "barpolar"
           }
          ],
          "carpet": [
           {
            "aaxis": {
             "endlinecolor": "#2a3f5f",
             "gridcolor": "white",
             "linecolor": "white",
             "minorgridcolor": "white",
             "startlinecolor": "#2a3f5f"
            },
            "baxis": {
             "endlinecolor": "#2a3f5f",
             "gridcolor": "white",
             "linecolor": "white",
             "minorgridcolor": "white",
             "startlinecolor": "#2a3f5f"
            },
            "type": "carpet"
           }
          ],
          "choropleth": [
           {
            "colorbar": {
             "outlinewidth": 0,
             "ticks": ""
            },
            "type": "choropleth"
           }
          ],
          "contour": [
           {
            "colorbar": {
             "outlinewidth": 0,
             "ticks": ""
            },
            "colorscale": [
             [
              0,
              "#0d0887"
             ],
             [
              0.1111111111111111,
              "#46039f"
             ],
             [
              0.2222222222222222,
              "#7201a8"
             ],
             [
              0.3333333333333333,
              "#9c179e"
             ],
             [
              0.4444444444444444,
              "#bd3786"
             ],
             [
              0.5555555555555556,
              "#d8576b"
             ],
             [
              0.6666666666666666,
              "#ed7953"
             ],
             [
              0.7777777777777778,
              "#fb9f3a"
             ],
             [
              0.8888888888888888,
              "#fdca26"
             ],
             [
              1,
              "#f0f921"
             ]
            ],
            "type": "contour"
           }
          ],
          "contourcarpet": [
           {
            "colorbar": {
             "outlinewidth": 0,
             "ticks": ""
            },
            "type": "contourcarpet"
           }
          ],
          "heatmap": [
           {
            "colorbar": {
             "outlinewidth": 0,
             "ticks": ""
            },
            "colorscale": [
             [
              0,
              "#0d0887"
             ],
             [
              0.1111111111111111,
              "#46039f"
             ],
             [
              0.2222222222222222,
              "#7201a8"
             ],
             [
              0.3333333333333333,
              "#9c179e"
             ],
             [
              0.4444444444444444,
              "#bd3786"
             ],
             [
              0.5555555555555556,
              "#d8576b"
             ],
             [
              0.6666666666666666,
              "#ed7953"
             ],
             [
              0.7777777777777778,
              "#fb9f3a"
             ],
             [
              0.8888888888888888,
              "#fdca26"
             ],
             [
              1,
              "#f0f921"
             ]
            ],
            "type": "heatmap"
           }
          ],
          "heatmapgl": [
           {
            "colorbar": {
             "outlinewidth": 0,
             "ticks": ""
            },
            "colorscale": [
             [
              0,
              "#0d0887"
             ],
             [
              0.1111111111111111,
              "#46039f"
             ],
             [
              0.2222222222222222,
              "#7201a8"
             ],
             [
              0.3333333333333333,
              "#9c179e"
             ],
             [
              0.4444444444444444,
              "#bd3786"
             ],
             [
              0.5555555555555556,
              "#d8576b"
             ],
             [
              0.6666666666666666,
              "#ed7953"
             ],
             [
              0.7777777777777778,
              "#fb9f3a"
             ],
             [
              0.8888888888888888,
              "#fdca26"
             ],
             [
              1,
              "#f0f921"
             ]
            ],
            "type": "heatmapgl"
           }
          ],
          "histogram": [
           {
            "marker": {
             "pattern": {
              "fillmode": "overlay",
              "size": 10,
              "solidity": 0.2
             }
            },
            "type": "histogram"
           }
          ],
          "histogram2d": [
           {
            "colorbar": {
             "outlinewidth": 0,
             "ticks": ""
            },
            "colorscale": [
             [
              0,
              "#0d0887"
             ],
             [
              0.1111111111111111,
              "#46039f"
             ],
             [
              0.2222222222222222,
              "#7201a8"
             ],
             [
              0.3333333333333333,
              "#9c179e"
             ],
             [
              0.4444444444444444,
              "#bd3786"
             ],
             [
              0.5555555555555556,
              "#d8576b"
             ],
             [
              0.6666666666666666,
              "#ed7953"
             ],
             [
              0.7777777777777778,
              "#fb9f3a"
             ],
             [
              0.8888888888888888,
              "#fdca26"
             ],
             [
              1,
              "#f0f921"
             ]
            ],
            "type": "histogram2d"
           }
          ],
          "histogram2dcontour": [
           {
            "colorbar": {
             "outlinewidth": 0,
             "ticks": ""
            },
            "colorscale": [
             [
              0,
              "#0d0887"
             ],
             [
              0.1111111111111111,
              "#46039f"
             ],
             [
              0.2222222222222222,
              "#7201a8"
             ],
             [
              0.3333333333333333,
              "#9c179e"
             ],
             [
              0.4444444444444444,
              "#bd3786"
             ],
             [
              0.5555555555555556,
              "#d8576b"
             ],
             [
              0.6666666666666666,
              "#ed7953"
             ],
             [
              0.7777777777777778,
              "#fb9f3a"
             ],
             [
              0.8888888888888888,
              "#fdca26"
             ],
             [
              1,
              "#f0f921"
             ]
            ],
            "type": "histogram2dcontour"
           }
          ],
          "mesh3d": [
           {
            "colorbar": {
             "outlinewidth": 0,
             "ticks": ""
            },
            "type": "mesh3d"
           }
          ],
          "parcoords": [
           {
            "line": {
             "colorbar": {
              "outlinewidth": 0,
              "ticks": ""
             }
            },
            "type": "parcoords"
           }
          ],
          "pie": [
           {
            "automargin": true,
            "type": "pie"
           }
          ],
          "scatter": [
           {
            "fillpattern": {
             "fillmode": "overlay",
             "size": 10,
             "solidity": 0.2
            },
            "type": "scatter"
           }
          ],
          "scatter3d": [
           {
            "line": {
             "colorbar": {
              "outlinewidth": 0,
              "ticks": ""
             }
            },
            "marker": {
             "colorbar": {
              "outlinewidth": 0,
              "ticks": ""
             }
            },
            "type": "scatter3d"
           }
          ],
          "scattercarpet": [
           {
            "marker": {
             "colorbar": {
              "outlinewidth": 0,
              "ticks": ""
             }
            },
            "type": "scattercarpet"
           }
          ],
          "scattergeo": [
           {
            "marker": {
             "colorbar": {
              "outlinewidth": 0,
              "ticks": ""
             }
            },
            "type": "scattergeo"
           }
          ],
          "scattergl": [
           {
            "marker": {
             "colorbar": {
              "outlinewidth": 0,
              "ticks": ""
             }
            },
            "type": "scattergl"
           }
          ],
          "scattermapbox": [
           {
            "marker": {
             "colorbar": {
              "outlinewidth": 0,
              "ticks": ""
             }
            },
            "type": "scattermapbox"
           }
          ],
          "scatterpolar": [
           {
            "marker": {
             "colorbar": {
              "outlinewidth": 0,
              "ticks": ""
             }
            },
            "type": "scatterpolar"
           }
          ],
          "scatterpolargl": [
           {
            "marker": {
             "colorbar": {
              "outlinewidth": 0,
              "ticks": ""
             }
            },
            "type": "scatterpolargl"
           }
          ],
          "scatterternary": [
           {
            "marker": {
             "colorbar": {
              "outlinewidth": 0,
              "ticks": ""
             }
            },
            "type": "scatterternary"
           }
          ],
          "surface": [
           {
            "colorbar": {
             "outlinewidth": 0,
             "ticks": ""
            },
            "colorscale": [
             [
              0,
              "#0d0887"
             ],
             [
              0.1111111111111111,
              "#46039f"
             ],
             [
              0.2222222222222222,
              "#7201a8"
             ],
             [
              0.3333333333333333,
              "#9c179e"
             ],
             [
              0.4444444444444444,
              "#bd3786"
             ],
             [
              0.5555555555555556,
              "#d8576b"
             ],
             [
              0.6666666666666666,
              "#ed7953"
             ],
             [
              0.7777777777777778,
              "#fb9f3a"
             ],
             [
              0.8888888888888888,
              "#fdca26"
             ],
             [
              1,
              "#f0f921"
             ]
            ],
            "type": "surface"
           }
          ],
          "table": [
           {
            "cells": {
             "fill": {
              "color": "#EBF0F8"
             },
             "line": {
              "color": "white"
             }
            },
            "header": {
             "fill": {
              "color": "#C8D4E3"
             },
             "line": {
              "color": "white"
             }
            },
            "type": "table"
           }
          ]
         },
         "layout": {
          "annotationdefaults": {
           "arrowcolor": "#2a3f5f",
           "arrowhead": 0,
           "arrowwidth": 1
          },
          "autotypenumbers": "strict",
          "coloraxis": {
           "colorbar": {
            "outlinewidth": 0,
            "ticks": ""
           }
          },
          "colorscale": {
           "diverging": [
            [
             0,
             "#8e0152"
            ],
            [
             0.1,
             "#c51b7d"
            ],
            [
             0.2,
             "#de77ae"
            ],
            [
             0.3,
             "#f1b6da"
            ],
            [
             0.4,
             "#fde0ef"
            ],
            [
             0.5,
             "#f7f7f7"
            ],
            [
             0.6,
             "#e6f5d0"
            ],
            [
             0.7,
             "#b8e186"
            ],
            [
             0.8,
             "#7fbc41"
            ],
            [
             0.9,
             "#4d9221"
            ],
            [
             1,
             "#276419"
            ]
           ],
           "sequential": [
            [
             0,
             "#0d0887"
            ],
            [
             0.1111111111111111,
             "#46039f"
            ],
            [
             0.2222222222222222,
             "#7201a8"
            ],
            [
             0.3333333333333333,
             "#9c179e"
            ],
            [
             0.4444444444444444,
             "#bd3786"
            ],
            [
             0.5555555555555556,
             "#d8576b"
            ],
            [
             0.6666666666666666,
             "#ed7953"
            ],
            [
             0.7777777777777778,
             "#fb9f3a"
            ],
            [
             0.8888888888888888,
             "#fdca26"
            ],
            [
             1,
             "#f0f921"
            ]
           ],
           "sequentialminus": [
            [
             0,
             "#0d0887"
            ],
            [
             0.1111111111111111,
             "#46039f"
            ],
            [
             0.2222222222222222,
             "#7201a8"
            ],
            [
             0.3333333333333333,
             "#9c179e"
            ],
            [
             0.4444444444444444,
             "#bd3786"
            ],
            [
             0.5555555555555556,
             "#d8576b"
            ],
            [
             0.6666666666666666,
             "#ed7953"
            ],
            [
             0.7777777777777778,
             "#fb9f3a"
            ],
            [
             0.8888888888888888,
             "#fdca26"
            ],
            [
             1,
             "#f0f921"
            ]
           ]
          },
          "colorway": [
           "#636efa",
           "#EF553B",
           "#00cc96",
           "#ab63fa",
           "#FFA15A",
           "#19d3f3",
           "#FF6692",
           "#B6E880",
           "#FF97FF",
           "#FECB52"
          ],
          "font": {
           "color": "#2a3f5f"
          },
          "geo": {
           "bgcolor": "white",
           "lakecolor": "white",
           "landcolor": "#E5ECF6",
           "showlakes": true,
           "showland": true,
           "subunitcolor": "white"
          },
          "hoverlabel": {
           "align": "left"
          },
          "hovermode": "closest",
          "mapbox": {
           "style": "light"
          },
          "paper_bgcolor": "white",
          "plot_bgcolor": "#E5ECF6",
          "polar": {
           "angularaxis": {
            "gridcolor": "white",
            "linecolor": "white",
            "ticks": ""
           },
           "bgcolor": "#E5ECF6",
           "radialaxis": {
            "gridcolor": "white",
            "linecolor": "white",
            "ticks": ""
           }
          },
          "scene": {
           "xaxis": {
            "backgroundcolor": "#E5ECF6",
            "gridcolor": "white",
            "gridwidth": 2,
            "linecolor": "white",
            "showbackground": true,
            "ticks": "",
            "zerolinecolor": "white"
           },
           "yaxis": {
            "backgroundcolor": "#E5ECF6",
            "gridcolor": "white",
            "gridwidth": 2,
            "linecolor": "white",
            "showbackground": true,
            "ticks": "",
            "zerolinecolor": "white"
           },
           "zaxis": {
            "backgroundcolor": "#E5ECF6",
            "gridcolor": "white",
            "gridwidth": 2,
            "linecolor": "white",
            "showbackground": true,
            "ticks": "",
            "zerolinecolor": "white"
           }
          },
          "shapedefaults": {
           "line": {
            "color": "#2a3f5f"
           }
          },
          "ternary": {
           "aaxis": {
            "gridcolor": "white",
            "linecolor": "white",
            "ticks": ""
           },
           "baxis": {
            "gridcolor": "white",
            "linecolor": "white",
            "ticks": ""
           },
           "bgcolor": "#E5ECF6",
           "caxis": {
            "gridcolor": "white",
            "linecolor": "white",
            "ticks": ""
           }
          },
          "title": {
           "x": 0.05
          },
          "xaxis": {
           "automargin": true,
           "gridcolor": "white",
           "linecolor": "white",
           "ticks": "",
           "title": {
            "standoff": 15
           },
           "zerolinecolor": "white",
           "zerolinewidth": 2
          },
          "yaxis": {
           "automargin": true,
           "gridcolor": "white",
           "linecolor": "white",
           "ticks": "",
           "title": {
            "standoff": 15
           },
           "zerolinecolor": "white",
           "zerolinewidth": 2
          }
         }
        },
        "title": {
         "text": "Beneficio por Ciudad"
        },
        "xaxis": {
         "anchor": "y",
         "categoryarray": [
          "BOGOTA",
          "LEÓN",
          "LIMA",
          "MADRID",
          "MONTERREY"
         ],
         "categoryorder": "array",
         "domain": [
          0,
          1
         ],
         "title": {
          "text": "Ciudad"
         }
        },
        "yaxis": {
         "anchor": "x",
         "domain": [
          0,
          1
         ],
         "title": {
          "text": "Beneficio ($)"
         }
        }
       }
      }
     },
     "metadata": {},
     "output_type": "display_data"
    }
   ],
   "source": [
    "# Beneficio por categoría\n",
    "beneficio_ciudad = ventas_completa.groupby(\"ciudad\")[[\"Beneficio\"]].sum().reset_index()\n",
    "\n",
    "fig = px.bar(\n",
    "    beneficio_ciudad.reset_index(),\n",
    "    x=\"ciudad\",\n",
    "    y=\"Beneficio\",\n",
    "    color=\"ciudad\",\n",
    "    title=\"Beneficio por Ciudad\",\n",
    "    text=\"Beneficio\",\n",
    "    labels={\"Beneficio\": \"Beneficio ($)\", \"Ciudad\": \"Ciudad\"}\n",
    ")\n",
    "fig.update_traces(texttemplate=\"%{text:.2s}\", textposition=\"outside\")\n",
    "fig.update_layout(yaxis_title=\"Beneficio ($)\", xaxis_title=\"Ciudad\")\n",
    "fig.show()"
   ]
  },
  {
   "cell_type": "code",
   "execution_count": 21,
   "metadata": {},
   "outputs": [
    {
     "data": {
      "text/plain": [
       "Index(['cod_orden', 'cod_producto', 'cod_ciudad', 'unidades_vendidas',\n",
       "       'fecha_orden', 'tipo_venta', 'nom_producto', 'precio_unitario',\n",
       "       'categoria', 'costo_unitario', 'ciudad', 'costo_asociado_al_domicilio',\n",
       "       'Ingresos', 'Costo_Total', 'Beneficio'],\n",
       "      dtype='object')"
      ]
     },
     "execution_count": 21,
     "metadata": {},
     "output_type": "execute_result"
    }
   ],
   "source": [
    "ventas_completa.columns"
   ]
  },
  {
   "cell_type": "code",
   "execution_count": 23,
   "metadata": {},
   "outputs": [
    {
     "data": {
      "application/vnd.plotly.v1+json": {
       "config": {
        "plotlyServerURL": "https://plot.ly"
       },
       "data": [
        {
         "customdata": [
          [
           "BARRILITO"
          ],
          [
           "MEGA"
          ],
          [
           "MEGA"
          ],
          [
           "MEGA"
          ],
          [
           "PREMIUM"
          ],
          [
           "BARRILITO"
          ],
          [
           "BARRILITO"
          ],
          [
           "MEGA"
          ],
          [
           "PREMIUM"
          ],
          [
           "MEGA"
          ],
          [
           "PREMIUM"
          ],
          [
           "BARRILITO"
          ],
          [
           "BARRILITO"
          ],
          [
           "BARRILITO"
          ],
          [
           "MEGA"
          ],
          [
           "PREMIUM"
          ],
          [
           "BARRILITO"
          ],
          [
           "PREMIUM"
          ],
          [
           "PREMIUM"
          ],
          [
           "BARRILITO"
          ],
          [
           "MEGA"
          ],
          [
           "PREMIUM"
          ],
          [
           "PREMIUM"
          ],
          [
           "MEGA"
          ],
          [
           "PREMIUM"
          ],
          [
           "PREMIUM"
          ],
          [
           "BARRILITO"
          ],
          [
           "PREMIUM"
          ],
          [
           "PREMIUM"
          ],
          [
           "BARRILITO"
          ],
          [
           "PREMIUM"
          ],
          [
           "MEGA"
          ],
          [
           "MEGA"
          ],
          [
           "PREMIUM"
          ],
          [
           "MEGA"
          ],
          [
           "PREMIUM"
          ],
          [
           "MEGA"
          ],
          [
           "BARRILITO"
          ],
          [
           "MEGA"
          ],
          [
           "BARRILITO"
          ],
          [
           "BARRILITO"
          ],
          [
           "BARRILITO"
          ],
          [
           "MEGA"
          ],
          [
           "PREMIUM"
          ],
          [
           "MEGA"
          ],
          [
           "BARRILITO"
          ],
          [
           "PREMIUM"
          ],
          [
           "BARRILITO"
          ],
          [
           "PREMIUM"
          ],
          [
           "BARRILITO"
          ],
          [
           "MEGA"
          ],
          [
           "PREMIUM"
          ],
          [
           "PREMIUM"
          ],
          [
           "BARRILITO"
          ],
          [
           "BARRILITO"
          ],
          [
           "PREMIUM"
          ],
          [
           "PREMIUM"
          ],
          [
           "BARRILITO"
          ],
          [
           "PREMIUM"
          ],
          [
           "BARRILITO"
          ],
          [
           "BARRILITO"
          ],
          [
           "BARRILITO"
          ],
          [
           "BARRILITO"
          ],
          [
           "BARRILITO"
          ],
          [
           "MEGA"
          ],
          [
           "MEGA"
          ],
          [
           "PREMIUM"
          ],
          [
           "PREMIUM"
          ],
          [
           "BARRILITO"
          ],
          [
           "MEGA"
          ],
          [
           "MEGA"
          ],
          [
           "BARRILITO"
          ],
          [
           "BARRILITO"
          ],
          [
           "PREMIUM"
          ],
          [
           "BARRILITO"
          ],
          [
           "BARRILITO"
          ],
          [
           "PREMIUM"
          ],
          [
           "PREMIUM"
          ],
          [
           "MEGA"
          ],
          [
           "MEGA"
          ],
          [
           "MEGA"
          ],
          [
           "PREMIUM"
          ],
          [
           "MEGA"
          ],
          [
           "MEGA"
          ],
          [
           "MEGA"
          ],
          [
           "PREMIUM"
          ],
          [
           "BARRILITO"
          ],
          [
           "MEGA"
          ],
          [
           "MEGA"
          ],
          [
           "BARRILITO"
          ],
          [
           "MEGA"
          ],
          [
           "PREMIUM"
          ],
          [
           "BARRILITO"
          ],
          [
           "PREMIUM"
          ],
          [
           "PREMIUM"
          ],
          [
           "BARRILITO"
          ],
          [
           "MEGA"
          ],
          [
           "MEGA"
          ],
          [
           "PREMIUM"
          ],
          [
           "MEGA"
          ],
          [
           "MEGA"
          ],
          [
           "MEGA"
          ],
          [
           "PREMIUM"
          ],
          [
           "PREMIUM"
          ],
          [
           "BARRILITO"
          ],
          [
           "BARRILITO"
          ],
          [
           "BARRILITO"
          ],
          [
           "PREMIUM"
          ],
          [
           "BARRILITO"
          ],
          [
           "MEGA"
          ],
          [
           "MEGA"
          ],
          [
           "MEGA"
          ],
          [
           "MEGA"
          ],
          [
           "PREMIUM"
          ],
          [
           "PREMIUM"
          ],
          [
           "BARRILITO"
          ],
          [
           "BARRILITO"
          ],
          [
           "MEGA"
          ],
          [
           "BARRILITO"
          ],
          [
           "PREMIUM"
          ],
          [
           "MEGA"
          ],
          [
           "BARRILITO"
          ],
          [
           "MEGA"
          ],
          [
           "BARRILITO"
          ],
          [
           "BARRILITO"
          ],
          [
           "MEGA"
          ],
          [
           "PREMIUM"
          ],
          [
           "BARRILITO"
          ],
          [
           "MEGA"
          ],
          [
           "PREMIUM"
          ],
          [
           "BARRILITO"
          ],
          [
           "PREMIUM"
          ],
          [
           "BARRILITO"
          ],
          [
           "PREMIUM"
          ],
          [
           "BARRILITO"
          ],
          [
           "PREMIUM"
          ],
          [
           "MEGA"
          ],
          [
           "BARRILITO"
          ],
          [
           "PREMIUM"
          ],
          [
           "PREMIUM"
          ],
          [
           "BARRILITO"
          ],
          [
           "MEGA"
          ],
          [
           "MEGA"
          ],
          [
           "PREMIUM"
          ],
          [
           "BARRILITO"
          ],
          [
           "PREMIUM"
          ],
          [
           "PREMIUM"
          ],
          [
           "MEGA"
          ],
          [
           "MEGA"
          ],
          [
           "PREMIUM"
          ],
          [
           "PREMIUM"
          ],
          [
           "MEGA"
          ],
          [
           "BARRILITO"
          ],
          [
           "PREMIUM"
          ],
          [
           "MEGA"
          ],
          [
           "MEGA"
          ],
          [
           "BARRILITO"
          ],
          [
           "PREMIUM"
          ],
          [
           "BARRILITO"
          ],
          [
           "PREMIUM"
          ],
          [
           "MEGA"
          ],
          [
           "BARRILITO"
          ],
          [
           "BARRILITO"
          ],
          [
           "MEGA"
          ],
          [
           "MEGA"
          ],
          [
           "BARRILITO"
          ],
          [
           "PREMIUM"
          ],
          [
           "BARRILITO"
          ],
          [
           "BARRILITO"
          ],
          [
           "MEGA"
          ],
          [
           "MEGA"
          ],
          [
           "MEGA"
          ],
          [
           "PREMIUM"
          ],
          [
           "MEGA"
          ],
          [
           "PREMIUM"
          ],
          [
           "BARRILITO"
          ],
          [
           "PREMIUM"
          ],
          [
           "BARRILITO"
          ],
          [
           "MEGA"
          ],
          [
           "PREMIUM"
          ],
          [
           "BARRILITO"
          ],
          [
           "MEGA"
          ],
          [
           "PREMIUM"
          ],
          [
           "BARRILITO"
          ],
          [
           "PREMIUM"
          ],
          [
           "BARRILITO"
          ],
          [
           "MEGA"
          ],
          [
           "PREMIUM"
          ],
          [
           "MEGA"
          ],
          [
           "PREMIUM"
          ],
          [
           "BARRILITO"
          ],
          [
           "BARRILITO"
          ],
          [
           "MEGA"
          ],
          [
           "MEGA"
          ],
          [
           "MEGA"
          ],
          [
           "MEGA"
          ],
          [
           "MEGA"
          ],
          [
           "BARRILITO"
          ],
          [
           "BARRILITO"
          ],
          [
           "MEGA"
          ],
          [
           "BARRILITO"
          ],
          [
           "MEGA"
          ],
          [
           "MEGA"
          ],
          [
           "PREMIUM"
          ],
          [
           "MEGA"
          ],
          [
           "MEGA"
          ],
          [
           "BARRILITO"
          ],
          [
           "PREMIUM"
          ],
          [
           "PREMIUM"
          ],
          [
           "PREMIUM"
          ],
          [
           "PREMIUM"
          ],
          [
           "BARRILITO"
          ],
          [
           "BARRILITO"
          ],
          [
           "PREMIUM"
          ],
          [
           "MEGA"
          ],
          [
           "BARRILITO"
          ],
          [
           "BARRILITO"
          ],
          [
           "PREMIUM"
          ],
          [
           "MEGA"
          ],
          [
           "BARRILITO"
          ],
          [
           "BARRILITO"
          ],
          [
           "PREMIUM"
          ],
          [
           "PREMIUM"
          ],
          [
           "MEGA"
          ],
          [
           "BARRILITO"
          ],
          [
           "MEGA"
          ],
          [
           "PREMIUM"
          ],
          [
           "PREMIUM"
          ],
          [
           "MEGA"
          ],
          [
           "BARRILITO"
          ],
          [
           "MEGA"
          ],
          [
           "PREMIUM"
          ],
          [
           "BARRILITO"
          ],
          [
           "PREMIUM"
          ],
          [
           "MEGA"
          ],
          [
           "MEGA"
          ],
          [
           "MEGA"
          ],
          [
           "BARRILITO"
          ],
          [
           "PREMIUM"
          ],
          [
           "BARRILITO"
          ],
          [
           "MEGA"
          ],
          [
           "PREMIUM"
          ],
          [
           "BARRILITO"
          ],
          [
           "PREMIUM"
          ],
          [
           "PREMIUM"
          ],
          [
           "PREMIUM"
          ],
          [
           "PREMIUM"
          ],
          [
           "MEGA"
          ],
          [
           "MEGA"
          ],
          [
           "MEGA"
          ],
          [
           "PREMIUM"
          ],
          [
           "PREMIUM"
          ],
          [
           "MEGA"
          ],
          [
           "BARRILITO"
          ],
          [
           "BARRILITO"
          ],
          [
           "MEGA"
          ],
          [
           "BARRILITO"
          ],
          [
           "PREMIUM"
          ],
          [
           "MEGA"
          ],
          [
           "BARRILITO"
          ],
          [
           "BARRILITO"
          ],
          [
           "PREMIUM"
          ],
          [
           "PREMIUM"
          ],
          [
           "BARRILITO"
          ],
          [
           "MEGA"
          ],
          [
           "PREMIUM"
          ],
          [
           "BARRILITO"
          ],
          [
           "MEGA"
          ],
          [
           "MEGA"
          ]
         ],
         "hovertemplate": "ciudad=LIMA<br>Ingresos ($)=%{x}<br>Costos Totales ($)=%{y}<br>Beneficio=%{marker.size}<br>categoria=%{customdata[0]}<extra></extra>",
         "legendgroup": "LIMA",
         "marker": {
          "color": "#636efa",
          "size": [
           52000,
           7000,
           9250,
           43000,
           1150,
           5020,
           25000,
           250,
           4300,
           2500,
           7900,
           2050,
           14200,
           14200,
           3220,
           37600,
           52000,
           6100,
           37600,
           6100,
           9250,
           47500,
           17800,
           1600,
           41200,
           41200,
           10150,
           7450,
           4300,
           10150,
           6100,
           7000,
           43000,
           17800,
           8800,
           19600,
           16000,
           38500,
           7000,
           18250,
           65500,
           14200,
           8440,
           11500,
           13660,
           2680,
           8800,
           31750,
           27700,
           2050,
           2500,
           700,
           7450,
           38500,
           2680,
           7450,
           17800,
           6100,
           13750,
           11500,
           38500,
           11500,
           38500,
           25000,
           5200,
           5200,
           41200,
           4300,
           31750,
           4750,
           1600,
           31750,
           25000,
           700,
           25000,
           25000,
           17800,
           11500,
           5200,
           9250,
           1600,
           8800,
           2500,
           9250,
           13660,
           19600,
           10150,
           18880,
           16000,
           18250,
           2500,
           4300,
           10150,
           11500,
           30400,
           52000,
           34000,
           5200,
           47500,
           34000,
           25000,
           16000,
           52000,
           13750,
           52000,
           18250,
           2050,
           13750,
           2680,
           25000,
           24100,
           24100,
           13660,
           11500,
           8800,
           4750,
           52000,
           4750,
           14200,
           700,
           9250,
           9700,
           12400,
           52000,
           38500,
           1600,
           19600,
           65500,
           16000,
           7900,
           10150,
           37600,
           25000,
           11500,
           2050,
           47500,
           16000,
           18250,
           47500,
           1150,
           38500,
           9250,
           4750,
           1150,
           7360,
           27700,
           8800,
           18880,
           16000,
           7900,
           4300,
           1600,
           14200,
           1150,
           4750,
           25000,
           7360,
           52000,
           14200,
           10600,
           250,
           4750,
           5020,
           2500,
           7000,
           14200,
           52000,
           11500,
           18250,
           5200,
           13660,
           18880,
           13750,
           5200,
           13750,
           25000,
           8800,
           25000,
           7000,
           30400,
           9700,
           25000,
           13750,
           14200,
           7900,
           18250,
           16000,
           7900,
           18880,
           27700,
           65500,
           2680,
           16000,
           24100,
           16000,
           1600,
           13660,
           65500,
           52000,
           9250,
           2050,
           9250,
           8440,
           37600,
           43000,
           34000,
           10150,
           8800,
           3400,
           13750,
           7450,
           14200,
           10150,
           8800,
           7000,
           2680,
           18250,
           7900,
           5200,
           18250,
           18250,
           10600,
           3400,
           4750,
           5020,
           8440,
           700,
           13750,
           12400,
           6100,
           2500,
           13750,
           25000,
           8800,
           5200,
           12400,
           8800,
           65500,
           19600,
           18250,
           16000,
           3400,
           2680,
           8800,
           4300,
           27700,
           6100,
           3220,
           16000,
           16000,
           17800,
           8800,
           1600,
           52000,
           5020,
           13660,
           4750,
           11500,
           5200,
           25000,
           7360,
           3400,
           7900,
           14200,
           8800,
           41200,
           52000,
           13660,
           7000
          ],
          "sizemode": "area",
          "sizeref": 166.25,
          "symbol": "circle"
         },
         "mode": "markers",
         "name": "LIMA",
         "showlegend": true,
         "type": "scattergl",
         "x": [
          60000,
          10000,
          12500,
          50000,
          3500,
          7800,
          30000,
          2500,
          7000,
          5000,
          11000,
          4500,
          18000,
          18000,
          5800,
          44000,
          60000,
          9000,
          44000,
          9000,
          12500,
          55000,
          22000,
          4000,
          48000,
          48000,
          13500,
          10500,
          7000,
          13500,
          9000,
          10000,
          50000,
          22000,
          12000,
          24000,
          20000,
          45000,
          10000,
          22500,
          75000,
          18000,
          11600,
          15000,
          17400,
          5200,
          12000,
          37500,
          33000,
          4500,
          5000,
          3000,
          10500,
          45000,
          5200,
          10500,
          22000,
          9000,
          17500,
          15000,
          45000,
          15000,
          45000,
          30000,
          8000,
          8000,
          48000,
          7000,
          37500,
          7500,
          4000,
          37500,
          30000,
          3000,
          30000,
          30000,
          22000,
          15000,
          8000,
          12500,
          4000,
          12000,
          5000,
          12500,
          17400,
          24000,
          13500,
          23200,
          20000,
          22500,
          5000,
          7000,
          13500,
          15000,
          36000,
          60000,
          40000,
          8000,
          55000,
          40000,
          30000,
          20000,
          60000,
          17500,
          60000,
          22500,
          4500,
          17500,
          5200,
          30000,
          29000,
          29000,
          17400,
          15000,
          12000,
          7500,
          60000,
          7500,
          18000,
          3000,
          12500,
          13000,
          16000,
          60000,
          45000,
          4000,
          24000,
          75000,
          20000,
          11000,
          13500,
          44000,
          30000,
          15000,
          4500,
          55000,
          20000,
          22500,
          55000,
          3500,
          45000,
          12500,
          7500,
          3500,
          10400,
          33000,
          12000,
          23200,
          20000,
          11000,
          7000,
          4000,
          18000,
          3500,
          7500,
          30000,
          10400,
          60000,
          18000,
          14000,
          2500,
          7500,
          7800,
          5000,
          10000,
          18000,
          60000,
          15000,
          22500,
          8000,
          17400,
          23200,
          17500,
          8000,
          17500,
          30000,
          12000,
          30000,
          10000,
          36000,
          13000,
          30000,
          17500,
          18000,
          11000,
          22500,
          20000,
          11000,
          23200,
          33000,
          75000,
          5200,
          20000,
          29000,
          20000,
          4000,
          17400,
          75000,
          60000,
          12500,
          4500,
          12500,
          11600,
          44000,
          50000,
          40000,
          13500,
          12000,
          6000,
          17500,
          10500,
          18000,
          13500,
          12000,
          10000,
          5200,
          22500,
          11000,
          8000,
          22500,
          22500,
          14000,
          6000,
          7500,
          7800,
          11600,
          3000,
          17500,
          16000,
          9000,
          5000,
          17500,
          30000,
          12000,
          8000,
          16000,
          12000,
          75000,
          24000,
          22500,
          20000,
          6000,
          5200,
          12000,
          7000,
          33000,
          9000,
          5800,
          20000,
          20000,
          22000,
          12000,
          4000,
          60000,
          7800,
          17400,
          7500,
          15000,
          8000,
          30000,
          10400,
          6000,
          11000,
          18000,
          12000,
          48000,
          60000,
          17400,
          10000
         ],
         "xaxis": "x",
         "y": [
          8000,
          3000,
          3250,
          7000,
          2350,
          2780,
          5000,
          2250,
          2700,
          2500,
          3100,
          2450,
          3800,
          3800,
          2580,
          6400,
          8000,
          2900,
          6400,
          2900,
          3250,
          7500,
          4200,
          2400,
          6800,
          6800,
          3350,
          3050,
          2700,
          3350,
          2900,
          3000,
          7000,
          4200,
          3200,
          4400,
          4000,
          6500,
          3000,
          4250,
          9500,
          3800,
          3160,
          3500,
          3740,
          2520,
          3200,
          5750,
          5300,
          2450,
          2500,
          2300,
          3050,
          6500,
          2520,
          3050,
          4200,
          2900,
          3750,
          3500,
          6500,
          3500,
          6500,
          5000,
          2800,
          2800,
          6800,
          2700,
          5750,
          2750,
          2400,
          5750,
          5000,
          2300,
          5000,
          5000,
          4200,
          3500,
          2800,
          3250,
          2400,
          3200,
          2500,
          3250,
          3740,
          4400,
          3350,
          4320,
          4000,
          4250,
          2500,
          2700,
          3350,
          3500,
          5600,
          8000,
          6000,
          2800,
          7500,
          6000,
          5000,
          4000,
          8000,
          3750,
          8000,
          4250,
          2450,
          3750,
          2520,
          5000,
          4900,
          4900,
          3740,
          3500,
          3200,
          2750,
          8000,
          2750,
          3800,
          2300,
          3250,
          3300,
          3600,
          8000,
          6500,
          2400,
          4400,
          9500,
          4000,
          3100,
          3350,
          6400,
          5000,
          3500,
          2450,
          7500,
          4000,
          4250,
          7500,
          2350,
          6500,
          3250,
          2750,
          2350,
          3040,
          5300,
          3200,
          4320,
          4000,
          3100,
          2700,
          2400,
          3800,
          2350,
          2750,
          5000,
          3040,
          8000,
          3800,
          3400,
          2250,
          2750,
          2780,
          2500,
          3000,
          3800,
          8000,
          3500,
          4250,
          2800,
          3740,
          4320,
          3750,
          2800,
          3750,
          5000,
          3200,
          5000,
          3000,
          5600,
          3300,
          5000,
          3750,
          3800,
          3100,
          4250,
          4000,
          3100,
          4320,
          5300,
          9500,
          2520,
          4000,
          4900,
          4000,
          2400,
          3740,
          9500,
          8000,
          3250,
          2450,
          3250,
          3160,
          6400,
          7000,
          6000,
          3350,
          3200,
          2600,
          3750,
          3050,
          3800,
          3350,
          3200,
          3000,
          2520,
          4250,
          3100,
          2800,
          4250,
          4250,
          3400,
          2600,
          2750,
          2780,
          3160,
          2300,
          3750,
          3600,
          2900,
          2500,
          3750,
          5000,
          3200,
          2800,
          3600,
          3200,
          9500,
          4400,
          4250,
          4000,
          2600,
          2520,
          3200,
          2700,
          5300,
          2900,
          2580,
          4000,
          4000,
          4200,
          3200,
          2400,
          8000,
          2780,
          3740,
          2750,
          3500,
          2800,
          5000,
          3040,
          2600,
          3100,
          3800,
          3200,
          6800,
          8000,
          3740,
          3000
         ],
         "yaxis": "y"
        },
        {
         "customdata": [
          [
           "BARRILITO"
          ],
          [
           "MEGA"
          ],
          [
           "BARRILITO"
          ],
          [
           "MEGA"
          ],
          [
           "PREMIUM"
          ],
          [
           "BARRILITO"
          ],
          [
           "BARRILITO"
          ],
          [
           "MEGA"
          ],
          [
           "PREMIUM"
          ],
          [
           "BARRILITO"
          ],
          [
           "MEGA"
          ],
          [
           "PREMIUM"
          ],
          [
           "BARRILITO"
          ],
          [
           "PREMIUM"
          ],
          [
           "PREMIUM"
          ],
          [
           "BARRILITO"
          ],
          [
           "PREMIUM"
          ],
          [
           "PREMIUM"
          ],
          [
           "PREMIUM"
          ],
          [
           "PREMIUM"
          ],
          [
           "MEGA"
          ],
          [
           "MEGA"
          ],
          [
           "PREMIUM"
          ],
          [
           "MEGA"
          ],
          [
           "BARRILITO"
          ],
          [
           "BARRILITO"
          ],
          [
           "BARRILITO"
          ],
          [
           "BARRILITO"
          ],
          [
           "PREMIUM"
          ],
          [
           "MEGA"
          ],
          [
           "PREMIUM"
          ],
          [
           "PREMIUM"
          ],
          [
           "BARRILITO"
          ],
          [
           "BARRILITO"
          ],
          [
           "PREMIUM"
          ],
          [
           "MEGA"
          ],
          [
           "BARRILITO"
          ],
          [
           "PREMIUM"
          ],
          [
           "PREMIUM"
          ],
          [
           "BARRILITO"
          ],
          [
           "MEGA"
          ],
          [
           "BARRILITO"
          ],
          [
           "BARRILITO"
          ],
          [
           "BARRILITO"
          ],
          [
           "MEGA"
          ],
          [
           "BARRILITO"
          ],
          [
           "BARRILITO"
          ],
          [
           "BARRILITO"
          ],
          [
           "MEGA"
          ],
          [
           "PREMIUM"
          ],
          [
           "MEGA"
          ],
          [
           "MEGA"
          ],
          [
           "BARRILITO"
          ],
          [
           "PREMIUM"
          ],
          [
           "MEGA"
          ],
          [
           "BARRILITO"
          ],
          [
           "PREMIUM"
          ],
          [
           "MEGA"
          ],
          [
           "BARRILITO"
          ],
          [
           "PREMIUM"
          ],
          [
           "MEGA"
          ],
          [
           "PREMIUM"
          ],
          [
           "PREMIUM"
          ],
          [
           "MEGA"
          ],
          [
           "MEGA"
          ],
          [
           "MEGA"
          ],
          [
           "MEGA"
          ],
          [
           "BARRILITO"
          ],
          [
           "BARRILITO"
          ],
          [
           "MEGA"
          ],
          [
           "PREMIUM"
          ],
          [
           "PREMIUM"
          ],
          [
           "MEGA"
          ],
          [
           "PREMIUM"
          ],
          [
           "BARRILITO"
          ],
          [
           "PREMIUM"
          ],
          [
           "PREMIUM"
          ],
          [
           "MEGA"
          ],
          [
           "PREMIUM"
          ],
          [
           "BARRILITO"
          ],
          [
           "BARRILITO"
          ],
          [
           "PREMIUM"
          ],
          [
           "PREMIUM"
          ],
          [
           "MEGA"
          ],
          [
           "MEGA"
          ],
          [
           "PREMIUM"
          ],
          [
           "MEGA"
          ],
          [
           "BARRILITO"
          ],
          [
           "PREMIUM"
          ],
          [
           "MEGA"
          ],
          [
           "MEGA"
          ],
          [
           "MEGA"
          ],
          [
           "BARRILITO"
          ],
          [
           "BARRILITO"
          ],
          [
           "PREMIUM"
          ],
          [
           "PREMIUM"
          ],
          [
           "PREMIUM"
          ],
          [
           "BARRILITO"
          ],
          [
           "PREMIUM"
          ],
          [
           "MEGA"
          ],
          [
           "PREMIUM"
          ],
          [
           "MEGA"
          ],
          [
           "BARRILITO"
          ],
          [
           "MEGA"
          ],
          [
           "PREMIUM"
          ],
          [
           "MEGA"
          ],
          [
           "PREMIUM"
          ],
          [
           "BARRILITO"
          ],
          [
           "BARRILITO"
          ],
          [
           "PREMIUM"
          ],
          [
           "BARRILITO"
          ],
          [
           "BARRILITO"
          ],
          [
           "MEGA"
          ],
          [
           "MEGA"
          ],
          [
           "MEGA"
          ],
          [
           "MEGA"
          ],
          [
           "PREMIUM"
          ],
          [
           "MEGA"
          ],
          [
           "MEGA"
          ],
          [
           "MEGA"
          ],
          [
           "BARRILITO"
          ],
          [
           "PREMIUM"
          ],
          [
           "BARRILITO"
          ],
          [
           "BARRILITO"
          ],
          [
           "PREMIUM"
          ],
          [
           "BARRILITO"
          ],
          [
           "PREMIUM"
          ],
          [
           "PREMIUM"
          ],
          [
           "BARRILITO"
          ],
          [
           "BARRILITO"
          ],
          [
           "MEGA"
          ],
          [
           "PREMIUM"
          ],
          [
           "PREMIUM"
          ],
          [
           "PREMIUM"
          ],
          [
           "MEGA"
          ],
          [
           "BARRILITO"
          ],
          [
           "PREMIUM"
          ],
          [
           "BARRILITO"
          ],
          [
           "PREMIUM"
          ],
          [
           "PREMIUM"
          ],
          [
           "MEGA"
          ],
          [
           "BARRILITO"
          ],
          [
           "MEGA"
          ],
          [
           "MEGA"
          ],
          [
           "PREMIUM"
          ],
          [
           "MEGA"
          ],
          [
           "BARRILITO"
          ],
          [
           "MEGA"
          ],
          [
           "BARRILITO"
          ],
          [
           "BARRILITO"
          ],
          [
           "PREMIUM"
          ],
          [
           "MEGA"
          ],
          [
           "PREMIUM"
          ],
          [
           "PREMIUM"
          ],
          [
           "MEGA"
          ],
          [
           "MEGA"
          ],
          [
           "PREMIUM"
          ],
          [
           "BARRILITO"
          ],
          [
           "MEGA"
          ],
          [
           "BARRILITO"
          ],
          [
           "PREMIUM"
          ],
          [
           "PREMIUM"
          ],
          [
           "BARRILITO"
          ],
          [
           "MEGA"
          ],
          [
           "MEGA"
          ],
          [
           "BARRILITO"
          ],
          [
           "MEGA"
          ],
          [
           "MEGA"
          ],
          [
           "MEGA"
          ],
          [
           "MEGA"
          ],
          [
           "MEGA"
          ],
          [
           "MEGA"
          ],
          [
           "MEGA"
          ],
          [
           "BARRILITO"
          ],
          [
           "BARRILITO"
          ],
          [
           "MEGA"
          ],
          [
           "BARRILITO"
          ],
          [
           "MEGA"
          ],
          [
           "PREMIUM"
          ],
          [
           "BARRILITO"
          ],
          [
           "MEGA"
          ],
          [
           "MEGA"
          ],
          [
           "PREMIUM"
          ],
          [
           "PREMIUM"
          ],
          [
           "PREMIUM"
          ],
          [
           "MEGA"
          ],
          [
           "BARRILITO"
          ],
          [
           "BARRILITO"
          ],
          [
           "MEGA"
          ],
          [
           "MEGA"
          ],
          [
           "MEGA"
          ],
          [
           "PREMIUM"
          ],
          [
           "MEGA"
          ],
          [
           "BARRILITO"
          ],
          [
           "PREMIUM"
          ],
          [
           "PREMIUM"
          ],
          [
           "MEGA"
          ],
          [
           "PREMIUM"
          ],
          [
           "MEGA"
          ],
          [
           "BARRILITO"
          ],
          [
           "PREMIUM"
          ],
          [
           "BARRILITO"
          ],
          [
           "PREMIUM"
          ],
          [
           "MEGA"
          ],
          [
           "BARRILITO"
          ],
          [
           "BARRILITO"
          ],
          [
           "MEGA"
          ],
          [
           "MEGA"
          ],
          [
           "PREMIUM"
          ],
          [
           "PREMIUM"
          ],
          [
           "BARRILITO"
          ],
          [
           "PREMIUM"
          ],
          [
           "MEGA"
          ],
          [
           "PREMIUM"
          ],
          [
           "BARRILITO"
          ],
          [
           "BARRILITO"
          ],
          [
           "PREMIUM"
          ],
          [
           "MEGA"
          ],
          [
           "MEGA"
          ],
          [
           "BARRILITO"
          ],
          [
           "PREMIUM"
          ],
          [
           "BARRILITO"
          ],
          [
           "BARRILITO"
          ],
          [
           "MEGA"
          ],
          [
           "PREMIUM"
          ],
          [
           "PREMIUM"
          ],
          [
           "BARRILITO"
          ],
          [
           "PREMIUM"
          ],
          [
           "MEGA"
          ],
          [
           "PREMIUM"
          ],
          [
           "BARRILITO"
          ],
          [
           "BARRILITO"
          ],
          [
           "MEGA"
          ],
          [
           "PREMIUM"
          ],
          [
           "MEGA"
          ],
          [
           "BARRILITO"
          ],
          [
           "BARRILITO"
          ],
          [
           "BARRILITO"
          ],
          [
           "BARRILITO"
          ],
          [
           "PREMIUM"
          ],
          [
           "PREMIUM"
          ],
          [
           "BARRILITO"
          ],
          [
           "MEGA"
          ],
          [
           "MEGA"
          ],
          [
           "MEGA"
          ],
          [
           "PREMIUM"
          ],
          [
           "PREMIUM"
          ],
          [
           "MEGA"
          ],
          [
           "BARRILITO"
          ],
          [
           "PREMIUM"
          ],
          [
           "BARRILITO"
          ],
          [
           "PREMIUM"
          ],
          [
           "MEGA"
          ],
          [
           "MEGA"
          ],
          [
           "PREMIUM"
          ],
          [
           "PREMIUM"
          ],
          [
           "PREMIUM"
          ],
          [
           "PREMIUM"
          ],
          [
           "MEGA"
          ],
          [
           "PREMIUM"
          ],
          [
           "MEGA"
          ]
         ],
         "hovertemplate": "ciudad=LEÓN<br>Ingresos ($)=%{x}<br>Costos Totales ($)=%{y}<br>Beneficio=%{marker.size}<br>categoria=%{customdata[0]}<extra></extra>",
         "legendgroup": "LEÓN",
         "marker": {
          "color": "#EF553B",
          "size": [
           10200,
           750,
           2550,
           5250,
           48000,
           18750,
           18750,
           43500,
           1650,
           52500,
           16500,
           4800,
           25500,
           52500,
           1650,
           39000,
           48000,
           14250,
           28200,
           8400,
           5700,
           24600,
           20100,
           24600,
           32250,
           2550,
           39000,
           32250,
           9300,
           14160,
           41700,
           28200,
           3180,
           14700,
           11100,
           750,
           52500,
           14250,
           6600,
           7860,
           12900,
           5520,
           18750,
           10650,
           9750,
           52500,
           66000,
           18750,
           14160,
           4800,
           34500,
           5700,
           10650,
           20100,
           16500,
           32250,
           18300,
           750,
           5250,
           14250,
           9750,
           4800,
           20100,
           19380,
           9300,
           14160,
           43500,
           25500,
           32250,
           14160,
           11100,
           7950,
           25500,
           4800,
           5520,
           8400,
           3900,
           43500,
           11100,
           3180,
           5250,
           9300,
           38100,
           750,
           14160,
           7950,
           3720,
           10200,
           30900,
           3720,
           8940,
           9300,
           5520,
           25500,
           30900,
           52500,
           3900,
           10650,
           18300,
           24600,
           1650,
           750,
           32250,
           12900,
           9300,
           34500,
           18300,
           25500,
           25500,
           52500,
           12000,
           6600,
           5700,
           3720,
           2100,
           16500,
           11100,
           16500,
           19380,
           3000,
           66000,
           41700,
           32250,
           12000,
           7950,
           5250,
           9300,
           6600,
           52500,
           18750,
           5700,
           1200,
           41700,
           41700,
           16500,
           5250,
           8400,
           14700,
           6600,
           28200,
           3720,
           14700,
           3000,
           8940,
           3900,
           12900,
           3180,
           9750,
           12000,
           25500,
           30900,
           2100,
           1200,
           8400,
           25500,
           12900,
           38100,
           10650,
           14160,
           39000,
           9300,
           9300,
           39000,
           16500,
           24600,
           25500,
           7500,
           9750,
           16500,
           3000,
           14160,
           3720,
           5700,
           2550,
           18750,
           3000,
           12000,
           24600,
           1650,
           10200,
           9300,
           7500,
           9300,
           41700,
           41700,
           5250,
           12000,
           5520,
           3000,
           9300,
           16500,
           30900,
           7500,
           5520,
           4800,
           11100,
           19380,
           8400,
           16500,
           52500,
           3900,
           12000,
           18300,
           7500,
           10650,
           2550,
           8940,
           9750,
           12000,
           9300,
           7860,
           38100,
           9750,
           28200,
           25500,
           14700,
           18300,
           3720,
           19380,
           12000,
           30900,
           10200,
           5520,
           5250,
           52500,
           3900,
           3180,
           52500,
           3000,
           1650,
           18750,
           10200,
           24600,
           18300,
           2100,
           2550,
           12000,
           32250,
           10650,
           1650,
           11100,
           66000,
           16500,
           19380,
           12900,
           7950,
           9300,
           16500,
           5520,
           3900,
           10200,
           11100,
           8940,
           25500,
           52500,
           4800,
           38100,
           11100,
           5250,
           1650,
           5700
          ],
          "sizemode": "area",
          "sizeref": 166.25,
          "symbol": "circle"
         },
         "mode": "markers",
         "name": "LEÓN",
         "showlegend": true,
         "type": "scattergl",
         "x": [
          13000,
          2500,
          4500,
          7500,
          55000,
          22500,
          22500,
          50000,
          3500,
          60000,
          20000,
          7000,
          30000,
          60000,
          3500,
          45000,
          55000,
          17500,
          33000,
          11000,
          8000,
          29000,
          24000,
          29000,
          37500,
          4500,
          45000,
          37500,
          12000,
          17400,
          48000,
          33000,
          5200,
          18000,
          14000,
          2500,
          60000,
          17500,
          9000,
          10400,
          16000,
          7800,
          22500,
          13500,
          12500,
          60000,
          75000,
          22500,
          17400,
          7000,
          40000,
          8000,
          13500,
          24000,
          20000,
          37500,
          22000,
          2500,
          7500,
          17500,
          12500,
          7000,
          24000,
          23200,
          12000,
          17400,
          50000,
          30000,
          37500,
          17400,
          14000,
          10500,
          30000,
          7000,
          7800,
          11000,
          6000,
          50000,
          14000,
          5200,
          7500,
          12000,
          44000,
          2500,
          17400,
          10500,
          5800,
          13000,
          36000,
          5800,
          11600,
          12000,
          7800,
          30000,
          36000,
          60000,
          6000,
          13500,
          22000,
          29000,
          3500,
          2500,
          37500,
          16000,
          12000,
          40000,
          22000,
          30000,
          30000,
          60000,
          15000,
          9000,
          8000,
          5800,
          4000,
          20000,
          14000,
          20000,
          23200,
          5000,
          75000,
          48000,
          37500,
          15000,
          10500,
          7500,
          12000,
          9000,
          60000,
          22500,
          8000,
          3000,
          48000,
          48000,
          20000,
          7500,
          11000,
          18000,
          9000,
          33000,
          5800,
          18000,
          5000,
          11600,
          6000,
          16000,
          5200,
          12500,
          15000,
          30000,
          36000,
          4000,
          3000,
          11000,
          30000,
          16000,
          44000,
          13500,
          17400,
          45000,
          12000,
          12000,
          45000,
          20000,
          29000,
          30000,
          10000,
          12500,
          20000,
          5000,
          17400,
          5800,
          8000,
          4500,
          22500,
          5000,
          15000,
          29000,
          3500,
          13000,
          12000,
          10000,
          12000,
          48000,
          48000,
          7500,
          15000,
          7800,
          5000,
          12000,
          20000,
          36000,
          10000,
          7800,
          7000,
          14000,
          23200,
          11000,
          20000,
          60000,
          6000,
          15000,
          22000,
          10000,
          13500,
          4500,
          11600,
          12500,
          15000,
          12000,
          10400,
          44000,
          12500,
          33000,
          30000,
          18000,
          22000,
          5800,
          23200,
          15000,
          36000,
          13000,
          7800,
          7500,
          60000,
          6000,
          5200,
          60000,
          5000,
          3500,
          22500,
          13000,
          29000,
          22000,
          4000,
          4500,
          15000,
          37500,
          13500,
          3500,
          14000,
          75000,
          20000,
          23200,
          16000,
          10500,
          12000,
          20000,
          7800,
          6000,
          13000,
          14000,
          11600,
          30000,
          60000,
          7000,
          44000,
          14000,
          7500,
          3500,
          8000
         ],
         "xaxis": "x",
         "y": [
          2800,
          1750,
          1950,
          2250,
          7000,
          3750,
          3750,
          6500,
          1850,
          7500,
          3500,
          2200,
          4500,
          7500,
          1850,
          6000,
          7000,
          3250,
          4800,
          2600,
          2300,
          4400,
          3900,
          4400,
          5250,
          1950,
          6000,
          5250,
          2700,
          3240,
          6300,
          4800,
          2020,
          3300,
          2900,
          1750,
          7500,
          3250,
          2400,
          2540,
          3100,
          2280,
          3750,
          2850,
          2750,
          7500,
          9000,
          3750,
          3240,
          2200,
          5500,
          2300,
          2850,
          3900,
          3500,
          5250,
          3700,
          1750,
          2250,
          3250,
          2750,
          2200,
          3900,
          3820,
          2700,
          3240,
          6500,
          4500,
          5250,
          3240,
          2900,
          2550,
          4500,
          2200,
          2280,
          2600,
          2100,
          6500,
          2900,
          2020,
          2250,
          2700,
          5900,
          1750,
          3240,
          2550,
          2080,
          2800,
          5100,
          2080,
          2660,
          2700,
          2280,
          4500,
          5100,
          7500,
          2100,
          2850,
          3700,
          4400,
          1850,
          1750,
          5250,
          3100,
          2700,
          5500,
          3700,
          4500,
          4500,
          7500,
          3000,
          2400,
          2300,
          2080,
          1900,
          3500,
          2900,
          3500,
          3820,
          2000,
          9000,
          6300,
          5250,
          3000,
          2550,
          2250,
          2700,
          2400,
          7500,
          3750,
          2300,
          1800,
          6300,
          6300,
          3500,
          2250,
          2600,
          3300,
          2400,
          4800,
          2080,
          3300,
          2000,
          2660,
          2100,
          3100,
          2020,
          2750,
          3000,
          4500,
          5100,
          1900,
          1800,
          2600,
          4500,
          3100,
          5900,
          2850,
          3240,
          6000,
          2700,
          2700,
          6000,
          3500,
          4400,
          4500,
          2500,
          2750,
          3500,
          2000,
          3240,
          2080,
          2300,
          1950,
          3750,
          2000,
          3000,
          4400,
          1850,
          2800,
          2700,
          2500,
          2700,
          6300,
          6300,
          2250,
          3000,
          2280,
          2000,
          2700,
          3500,
          5100,
          2500,
          2280,
          2200,
          2900,
          3820,
          2600,
          3500,
          7500,
          2100,
          3000,
          3700,
          2500,
          2850,
          1950,
          2660,
          2750,
          3000,
          2700,
          2540,
          5900,
          2750,
          4800,
          4500,
          3300,
          3700,
          2080,
          3820,
          3000,
          5100,
          2800,
          2280,
          2250,
          7500,
          2100,
          2020,
          7500,
          2000,
          1850,
          3750,
          2800,
          4400,
          3700,
          1900,
          1950,
          3000,
          5250,
          2850,
          1850,
          2900,
          9000,
          3500,
          3820,
          3100,
          2550,
          2700,
          3500,
          2280,
          2100,
          2800,
          2900,
          2660,
          4500,
          7500,
          2200,
          5900,
          2900,
          2250,
          1850,
          2300
         ],
         "yaxis": "y"
        },
        {
         "customdata": [
          [
           "BARRILITO"
          ],
          [
           "MEGA"
          ],
          [
           "PREMIUM"
          ],
          [
           "BARRILITO"
          ],
          [
           "BARRILITO"
          ],
          [
           "PREMIUM"
          ],
          [
           "BARRILITO"
          ],
          [
           "PREMIUM"
          ],
          [
           "PREMIUM"
          ],
          [
           "BARRILITO"
          ],
          [
           "PREMIUM"
          ],
          [
           "MEGA"
          ],
          [
           "PREMIUM"
          ],
          [
           "MEGA"
          ],
          [
           "PREMIUM"
          ],
          [
           "PREMIUM"
          ],
          [
           "MEGA"
          ],
          [
           "BARRILITO"
          ],
          [
           "BARRILITO"
          ],
          [
           "PREMIUM"
          ],
          [
           "MEGA"
          ],
          [
           "PREMIUM"
          ],
          [
           "MEGA"
          ],
          [
           "BARRILITO"
          ],
          [
           "PREMIUM"
          ],
          [
           "BARRILITO"
          ],
          [
           "PREMIUM"
          ],
          [
           "MEGA"
          ],
          [
           "PREMIUM"
          ],
          [
           "MEGA"
          ],
          [
           "BARRILITO"
          ],
          [
           "MEGA"
          ],
          [
           "BARRILITO"
          ],
          [
           "PREMIUM"
          ],
          [
           "MEGA"
          ],
          [
           "PREMIUM"
          ],
          [
           "MEGA"
          ],
          [
           "BARRILITO"
          ],
          [
           "MEGA"
          ],
          [
           "MEGA"
          ],
          [
           "PREMIUM"
          ],
          [
           "PREMIUM"
          ],
          [
           "PREMIUM"
          ],
          [
           "BARRILITO"
          ],
          [
           "PREMIUM"
          ],
          [
           "PREMIUM"
          ],
          [
           "BARRILITO"
          ],
          [
           "MEGA"
          ],
          [
           "MEGA"
          ],
          [
           "BARRILITO"
          ],
          [
           "BARRILITO"
          ],
          [
           "MEGA"
          ],
          [
           "PREMIUM"
          ],
          [
           "BARRILITO"
          ],
          [
           "PREMIUM"
          ],
          [
           "PREMIUM"
          ],
          [
           "MEGA"
          ],
          [
           "BARRILITO"
          ],
          [
           "MEGA"
          ],
          [
           "PREMIUM"
          ],
          [
           "PREMIUM"
          ],
          [
           "MEGA"
          ],
          [
           "BARRILITO"
          ],
          [
           "MEGA"
          ],
          [
           "MEGA"
          ],
          [
           "BARRILITO"
          ],
          [
           "MEGA"
          ],
          [
           "PREMIUM"
          ],
          [
           "BARRILITO"
          ],
          [
           "PREMIUM"
          ],
          [
           "BARRILITO"
          ],
          [
           "MEGA"
          ],
          [
           "PREMIUM"
          ],
          [
           "BARRILITO"
          ],
          [
           "BARRILITO"
          ],
          [
           "PREMIUM"
          ],
          [
           "MEGA"
          ],
          [
           "BARRILITO"
          ],
          [
           "BARRILITO"
          ],
          [
           "BARRILITO"
          ],
          [
           "BARRILITO"
          ],
          [
           "MEGA"
          ],
          [
           "BARRILITO"
          ],
          [
           "BARRILITO"
          ],
          [
           "MEGA"
          ],
          [
           "MEGA"
          ],
          [
           "PREMIUM"
          ],
          [
           "MEGA"
          ],
          [
           "PREMIUM"
          ],
          [
           "PREMIUM"
          ],
          [
           "BARRILITO"
          ],
          [
           "BARRILITO"
          ],
          [
           "MEGA"
          ],
          [
           "PREMIUM"
          ],
          [
           "PREMIUM"
          ],
          [
           "PREMIUM"
          ],
          [
           "MEGA"
          ],
          [
           "PREMIUM"
          ],
          [
           "MEGA"
          ],
          [
           "BARRILITO"
          ],
          [
           "PREMIUM"
          ],
          [
           "BARRILITO"
          ],
          [
           "PREMIUM"
          ],
          [
           "PREMIUM"
          ],
          [
           "PREMIUM"
          ],
          [
           "BARRILITO"
          ],
          [
           "BARRILITO"
          ],
          [
           "PREMIUM"
          ],
          [
           "MEGA"
          ],
          [
           "MEGA"
          ],
          [
           "BARRILITO"
          ],
          [
           "MEGA"
          ],
          [
           "PREMIUM"
          ],
          [
           "MEGA"
          ],
          [
           "BARRILITO"
          ],
          [
           "BARRILITO"
          ],
          [
           "MEGA"
          ],
          [
           "PREMIUM"
          ],
          [
           "PREMIUM"
          ],
          [
           "MEGA"
          ],
          [
           "PREMIUM"
          ],
          [
           "BARRILITO"
          ],
          [
           "BARRILITO"
          ],
          [
           "PREMIUM"
          ],
          [
           "MEGA"
          ],
          [
           "BARRILITO"
          ],
          [
           "MEGA"
          ],
          [
           "BARRILITO"
          ],
          [
           "MEGA"
          ],
          [
           "PREMIUM"
          ],
          [
           "MEGA"
          ],
          [
           "MEGA"
          ],
          [
           "MEGA"
          ],
          [
           "PREMIUM"
          ],
          [
           "MEGA"
          ],
          [
           "MEGA"
          ],
          [
           "BARRILITO"
          ],
          [
           "BARRILITO"
          ],
          [
           "BARRILITO"
          ],
          [
           "MEGA"
          ],
          [
           "MEGA"
          ],
          [
           "BARRILITO"
          ],
          [
           "PREMIUM"
          ],
          [
           "PREMIUM"
          ],
          [
           "MEGA"
          ],
          [
           "BARRILITO"
          ],
          [
           "PREMIUM"
          ],
          [
           "BARRILITO"
          ],
          [
           "BARRILITO"
          ],
          [
           "MEGA"
          ],
          [
           "MEGA"
          ],
          [
           "PREMIUM"
          ],
          [
           "BARRILITO"
          ],
          [
           "PREMIUM"
          ],
          [
           "PREMIUM"
          ],
          [
           "BARRILITO"
          ],
          [
           "BARRILITO"
          ],
          [
           "BARRILITO"
          ],
          [
           "PREMIUM"
          ],
          [
           "PREMIUM"
          ],
          [
           "MEGA"
          ],
          [
           "BARRILITO"
          ],
          [
           "PREMIUM"
          ],
          [
           "MEGA"
          ],
          [
           "PREMIUM"
          ],
          [
           "PREMIUM"
          ],
          [
           "PREMIUM"
          ],
          [
           "PREMIUM"
          ],
          [
           "PREMIUM"
          ],
          [
           "PREMIUM"
          ],
          [
           "MEGA"
          ],
          [
           "MEGA"
          ],
          [
           "PREMIUM"
          ],
          [
           "MEGA"
          ],
          [
           "PREMIUM"
          ],
          [
           "PREMIUM"
          ],
          [
           "PREMIUM"
          ],
          [
           "MEGA"
          ],
          [
           "MEGA"
          ],
          [
           "PREMIUM"
          ],
          [
           "MEGA"
          ],
          [
           "BARRILITO"
          ],
          [
           "MEGA"
          ],
          [
           "MEGA"
          ],
          [
           "MEGA"
          ],
          [
           "BARRILITO"
          ],
          [
           "MEGA"
          ],
          [
           "BARRILITO"
          ],
          [
           "PREMIUM"
          ],
          [
           "PREMIUM"
          ],
          [
           "BARRILITO"
          ],
          [
           "MEGA"
          ],
          [
           "PREMIUM"
          ],
          [
           "BARRILITO"
          ],
          [
           "MEGA"
          ],
          [
           "BARRILITO"
          ],
          [
           "PREMIUM"
          ],
          [
           "BARRILITO"
          ],
          [
           "BARRILITO"
          ],
          [
           "PREMIUM"
          ],
          [
           "PREMIUM"
          ],
          [
           "MEGA"
          ],
          [
           "PREMIUM"
          ],
          [
           "MEGA"
          ],
          [
           "MEGA"
          ],
          [
           "PREMIUM"
          ],
          [
           "BARRILITO"
          ],
          [
           "BARRILITO"
          ],
          [
           "PREMIUM"
          ],
          [
           "PREMIUM"
          ],
          [
           "PREMIUM"
          ],
          [
           "BARRILITO"
          ],
          [
           "MEGA"
          ],
          [
           "PREMIUM"
          ],
          [
           "BARRILITO"
          ],
          [
           "BARRILITO"
          ],
          [
           "BARRILITO"
          ],
          [
           "MEGA"
          ],
          [
           "MEGA"
          ],
          [
           "MEGA"
          ],
          [
           "MEGA"
          ],
          [
           "MEGA"
          ],
          [
           "BARRILITO"
          ],
          [
           "PREMIUM"
          ],
          [
           "MEGA"
          ],
          [
           "BARRILITO"
          ],
          [
           "MEGA"
          ],
          [
           "PREMIUM"
          ],
          [
           "PREMIUM"
          ],
          [
           "BARRILITO"
          ],
          [
           "PREMIUM"
          ],
          [
           "MEGA"
          ],
          [
           "PREMIUM"
          ],
          [
           "PREMIUM"
          ],
          [
           "MEGA"
          ],
          [
           "PREMIUM"
          ],
          [
           "MEGA"
          ],
          [
           "MEGA"
          ],
          [
           "BARRILITO"
          ],
          [
           "BARRILITO"
          ],
          [
           "BARRILITO"
          ],
          [
           "BARRILITO"
          ],
          [
           "BARRILITO"
          ],
          [
           "MEGA"
          ],
          [
           "BARRILITO"
          ],
          [
           "MEGA"
          ],
          [
           "MEGA"
          ],
          [
           "PREMIUM"
          ],
          [
           "PREMIUM"
          ],
          [
           "MEGA"
          ]
         ],
         "hovertemplate": "ciudad=BOGOTA<br>Ingresos ($)=%{x}<br>Costos Totales ($)=%{y}<br>Beneficio=%{marker.size}<br>categoria=%{customdata[0]}<extra></extra>",
         "legendgroup": "BOGOTA",
         "marker": {
          "color": "#00cc96",
          "size": [
           9150,
           2220,
           9600,
           64500,
           17250,
           36600,
           9150,
           6900,
           46500,
           9150,
           46500,
           4200,
           2400,
           8250,
           9600,
           29400,
           15000,
           51000,
           13200,
           6450,
           6000,
           5100,
           15000,
           5100,
           3300,
           17250,
           7800,
           33000,
           2400,
           6000,
           37500,
           42000,
           64500,
           7800,
           1500,
           2400,
           15000,
           24000,
           11400,
           42000,
           9600,
           10500,
           40200,
           5100,
           36600,
           6450,
           64500,
           15000,
           12660,
           8700,
           9150,
           15000,
           36600,
           9150,
           40200,
           6900,
           1500,
           64500,
           1500,
           36600,
           3300,
           15000,
           13200,
           2220,
           33000,
           37500,
           8250,
           9600,
           24000,
           2400,
           9150,
           42000,
           10500,
           6360,
           10500,
           26700,
           24000,
           64500,
           30750,
           1050,
           9150,
           600,
           3750,
           30750,
           42000,
           11400,
           29400,
           33000,
           12750,
           16800,
           30750,
           17250,
           11400,
           7800,
           2400,
           9600,
           4200,
           5100,
           7440,
           8700,
           40200,
           64500,
           18600,
           26700,
           6450,
           10500,
           8700,
           12750,
           17880,
           600,
           24000,
           11400,
           12750,
           8250,
           13200,
           1050,
           6000,
           18600,
           46500,
           11400,
           7800,
           30750,
           64500,
           10500,
           3750,
           1680,
           7440,
           37500,
           7800,
           7800,
           2220,
           24000,
           2220,
           5100,
           15000,
           6000,
           8700,
           17250,
           30750,
           33000,
           33000,
           30750,
           6450,
           7800,
           7800,
           24000,
           6900,
           13200,
           6360,
           42000,
           33000,
           36600,
           64500,
           40200,
           2400,
           30750,
           8700,
           17250,
           36600,
           2400,
           3750,
           64500,
           3300,
           8250,
           16800,
           16800,
           46500,
           7800,
           5100,
           29400,
           4200,
           12660,
           16800,
           42000,
           2400,
           12750,
           18600,
           2220,
           2220,
           3300,
           11400,
           9150,
           17880,
           42000,
           15000,
           17250,
           11400,
           51000,
           7800,
           26700,
           51000,
           11400,
           16800,
           17250,
           7800,
           5100,
           18600,
           17250,
           64500,
           150,
           10500,
           15000,
           10500,
           600,
           6000,
           9600,
           8700,
           4020,
           40200,
           12750,
           29400,
           51000,
           7440,
           18600,
           3750,
           10500,
           10500,
           7800,
           600,
           33000,
           3750,
           8250,
           4020,
           12750,
           23100,
           64500,
           11400,
           6450,
           29400,
           64500,
           3300,
           42000,
           46500,
           2400,
           2220,
           46500,
           42000,
           600,
           5100,
           13200,
           5100,
           13200,
           3750,
           6000,
           8700,
           8250,
           33000,
           16800,
           26700,
           42000
          ],
          "sizemode": "area",
          "sizeref": 166.25,
          "symbol": "circle"
         },
         "mode": "markers",
         "name": "BOGOTA",
         "showlegend": true,
         "type": "scattergl",
         "x": [
          13500,
          5800,
          14000,
          75000,
          22500,
          44000,
          13500,
          11000,
          55000,
          13500,
          55000,
          8000,
          6000,
          12500,
          14000,
          36000,
          20000,
          60000,
          18000,
          10500,
          10000,
          9000,
          20000,
          9000,
          7000,
          22500,
          12000,
          40000,
          6000,
          10000,
          45000,
          50000,
          75000,
          12000,
          5000,
          6000,
          20000,
          30000,
          16000,
          50000,
          14000,
          15000,
          48000,
          9000,
          44000,
          10500,
          75000,
          20000,
          17400,
          13000,
          13500,
          20000,
          44000,
          13500,
          48000,
          11000,
          5000,
          75000,
          5000,
          44000,
          7000,
          20000,
          18000,
          5800,
          40000,
          45000,
          12500,
          14000,
          30000,
          6000,
          13500,
          50000,
          15000,
          10400,
          15000,
          33000,
          30000,
          75000,
          37500,
          4500,
          13500,
          4000,
          7500,
          37500,
          50000,
          16000,
          36000,
          40000,
          17500,
          22000,
          37500,
          22500,
          16000,
          12000,
          6000,
          14000,
          8000,
          9000,
          11600,
          13000,
          48000,
          75000,
          24000,
          33000,
          10500,
          15000,
          13000,
          17500,
          23200,
          4000,
          30000,
          16000,
          17500,
          12500,
          18000,
          4500,
          10000,
          24000,
          55000,
          16000,
          12000,
          37500,
          75000,
          15000,
          7500,
          5200,
          11600,
          45000,
          12000,
          12000,
          5800,
          30000,
          5800,
          9000,
          20000,
          10000,
          13000,
          22500,
          37500,
          40000,
          40000,
          37500,
          10500,
          12000,
          12000,
          30000,
          11000,
          18000,
          10400,
          50000,
          40000,
          44000,
          75000,
          48000,
          6000,
          37500,
          13000,
          22500,
          44000,
          6000,
          7500,
          75000,
          7000,
          12500,
          22000,
          22000,
          55000,
          12000,
          9000,
          36000,
          8000,
          17400,
          22000,
          50000,
          6000,
          17500,
          24000,
          5800,
          5800,
          7000,
          16000,
          13500,
          23200,
          50000,
          20000,
          22500,
          16000,
          60000,
          12000,
          33000,
          60000,
          16000,
          22000,
          22500,
          12000,
          9000,
          24000,
          22500,
          75000,
          3500,
          15000,
          20000,
          15000,
          4000,
          10000,
          14000,
          13000,
          7800,
          48000,
          17500,
          36000,
          60000,
          11600,
          24000,
          7500,
          15000,
          15000,
          12000,
          4000,
          40000,
          7500,
          12500,
          7800,
          17500,
          29000,
          75000,
          16000,
          10500,
          36000,
          75000,
          7000,
          50000,
          55000,
          6000,
          5800,
          55000,
          50000,
          4000,
          9000,
          18000,
          9000,
          18000,
          7500,
          10000,
          13000,
          12500,
          40000,
          22000,
          33000,
          50000
         ],
         "xaxis": "x",
         "y": [
          4350,
          3580,
          4400,
          10500,
          5250,
          7400,
          4350,
          4100,
          8500,
          4350,
          8500,
          3800,
          3600,
          4250,
          4400,
          6600,
          5000,
          9000,
          4800,
          4050,
          4000,
          3900,
          5000,
          3900,
          3700,
          5250,
          4200,
          7000,
          3600,
          4000,
          7500,
          8000,
          10500,
          4200,
          3500,
          3600,
          5000,
          6000,
          4600,
          8000,
          4400,
          4500,
          7800,
          3900,
          7400,
          4050,
          10500,
          5000,
          4740,
          4300,
          4350,
          5000,
          7400,
          4350,
          7800,
          4100,
          3500,
          10500,
          3500,
          7400,
          3700,
          5000,
          4800,
          3580,
          7000,
          7500,
          4250,
          4400,
          6000,
          3600,
          4350,
          8000,
          4500,
          4040,
          4500,
          6300,
          6000,
          10500,
          6750,
          3450,
          4350,
          3400,
          3750,
          6750,
          8000,
          4600,
          6600,
          7000,
          4750,
          5200,
          6750,
          5250,
          4600,
          4200,
          3600,
          4400,
          3800,
          3900,
          4160,
          4300,
          7800,
          10500,
          5400,
          6300,
          4050,
          4500,
          4300,
          4750,
          5320,
          3400,
          6000,
          4600,
          4750,
          4250,
          4800,
          3450,
          4000,
          5400,
          8500,
          4600,
          4200,
          6750,
          10500,
          4500,
          3750,
          3520,
          4160,
          7500,
          4200,
          4200,
          3580,
          6000,
          3580,
          3900,
          5000,
          4000,
          4300,
          5250,
          6750,
          7000,
          7000,
          6750,
          4050,
          4200,
          4200,
          6000,
          4100,
          4800,
          4040,
          8000,
          7000,
          7400,
          10500,
          7800,
          3600,
          6750,
          4300,
          5250,
          7400,
          3600,
          3750,
          10500,
          3700,
          4250,
          5200,
          5200,
          8500,
          4200,
          3900,
          6600,
          3800,
          4740,
          5200,
          8000,
          3600,
          4750,
          5400,
          3580,
          3580,
          3700,
          4600,
          4350,
          5320,
          8000,
          5000,
          5250,
          4600,
          9000,
          4200,
          6300,
          9000,
          4600,
          5200,
          5250,
          4200,
          3900,
          5400,
          5250,
          10500,
          3350,
          4500,
          5000,
          4500,
          3400,
          4000,
          4400,
          4300,
          3780,
          7800,
          4750,
          6600,
          9000,
          4160,
          5400,
          3750,
          4500,
          4500,
          4200,
          3400,
          7000,
          3750,
          4250,
          3780,
          4750,
          5900,
          10500,
          4600,
          4050,
          6600,
          10500,
          3700,
          8000,
          8500,
          3600,
          3580,
          8500,
          8000,
          3400,
          3900,
          4800,
          3900,
          4800,
          3750,
          4000,
          4300,
          4250,
          7000,
          5200,
          6300,
          8000
         ],
         "yaxis": "y"
        },
        {
         "customdata": [
          [
           "MEGA"
          ],
          [
           "MEGA"
          ],
          [
           "BARRILITO"
          ],
          [
           "PREMIUM"
          ],
          [
           "PREMIUM"
          ],
          [
           "MEGA"
          ],
          [
           "BARRILITO"
          ],
          [
           "BARRILITO"
          ],
          [
           "BARRILITO"
          ],
          [
           "MEGA"
          ],
          [
           "BARRILITO"
          ],
          [
           "BARRILITO"
          ],
          [
           "MEGA"
          ],
          [
           "PREMIUM"
          ],
          [
           "BARRILITO"
          ],
          [
           "BARRILITO"
          ],
          [
           "MEGA"
          ],
          [
           "PREMIUM"
          ],
          [
           "MEGA"
          ],
          [
           "MEGA"
          ],
          [
           "MEGA"
          ],
          [
           "MEGA"
          ],
          [
           "BARRILITO"
          ],
          [
           "BARRILITO"
          ],
          [
           "BARRILITO"
          ],
          [
           "MEGA"
          ],
          [
           "BARRILITO"
          ],
          [
           "PREMIUM"
          ],
          [
           "BARRILITO"
          ],
          [
           "PREMIUM"
          ],
          [
           "PREMIUM"
          ],
          [
           "BARRILITO"
          ],
          [
           "BARRILITO"
          ],
          [
           "MEGA"
          ],
          [
           "MEGA"
          ],
          [
           "BARRILITO"
          ],
          [
           "PREMIUM"
          ],
          [
           "PREMIUM"
          ],
          [
           "MEGA"
          ],
          [
           "PREMIUM"
          ],
          [
           "BARRILITO"
          ],
          [
           "PREMIUM"
          ],
          [
           "MEGA"
          ],
          [
           "BARRILITO"
          ],
          [
           "PREMIUM"
          ],
          [
           "MEGA"
          ],
          [
           "BARRILITO"
          ],
          [
           "MEGA"
          ],
          [
           "BARRILITO"
          ],
          [
           "BARRILITO"
          ],
          [
           "BARRILITO"
          ],
          [
           "PREMIUM"
          ],
          [
           "MEGA"
          ],
          [
           "PREMIUM"
          ],
          [
           "BARRILITO"
          ],
          [
           "MEGA"
          ],
          [
           "PREMIUM"
          ],
          [
           "BARRILITO"
          ],
          [
           "MEGA"
          ],
          [
           "PREMIUM"
          ],
          [
           "BARRILITO"
          ],
          [
           "PREMIUM"
          ],
          [
           "BARRILITO"
          ],
          [
           "BARRILITO"
          ],
          [
           "MEGA"
          ],
          [
           "PREMIUM"
          ],
          [
           "MEGA"
          ],
          [
           "PREMIUM"
          ],
          [
           "PREMIUM"
          ],
          [
           "MEGA"
          ],
          [
           "BARRILITO"
          ],
          [
           "BARRILITO"
          ],
          [
           "PREMIUM"
          ],
          [
           "PREMIUM"
          ],
          [
           "BARRILITO"
          ],
          [
           "MEGA"
          ],
          [
           "PREMIUM"
          ],
          [
           "MEGA"
          ],
          [
           "MEGA"
          ],
          [
           "PREMIUM"
          ],
          [
           "MEGA"
          ],
          [
           "MEGA"
          ],
          [
           "MEGA"
          ],
          [
           "MEGA"
          ],
          [
           "BARRILITO"
          ],
          [
           "PREMIUM"
          ],
          [
           "BARRILITO"
          ],
          [
           "PREMIUM"
          ],
          [
           "BARRILITO"
          ],
          [
           "PREMIUM"
          ],
          [
           "PREMIUM"
          ],
          [
           "MEGA"
          ],
          [
           "BARRILITO"
          ],
          [
           "BARRILITO"
          ],
          [
           "BARRILITO"
          ],
          [
           "MEGA"
          ],
          [
           "PREMIUM"
          ],
          [
           "MEGA"
          ],
          [
           "MEGA"
          ],
          [
           "MEGA"
          ],
          [
           "MEGA"
          ],
          [
           "PREMIUM"
          ],
          [
           "BARRILITO"
          ],
          [
           "BARRILITO"
          ],
          [
           "BARRILITO"
          ],
          [
           "PREMIUM"
          ],
          [
           "PREMIUM"
          ],
          [
           "MEGA"
          ],
          [
           "PREMIUM"
          ],
          [
           "PREMIUM"
          ],
          [
           "PREMIUM"
          ],
          [
           "PREMIUM"
          ],
          [
           "BARRILITO"
          ],
          [
           "MEGA"
          ],
          [
           "BARRILITO"
          ],
          [
           "PREMIUM"
          ],
          [
           "BARRILITO"
          ],
          [
           "MEGA"
          ],
          [
           "BARRILITO"
          ],
          [
           "MEGA"
          ],
          [
           "PREMIUM"
          ],
          [
           "BARRILITO"
          ],
          [
           "BARRILITO"
          ],
          [
           "BARRILITO"
          ],
          [
           "MEGA"
          ],
          [
           "BARRILITO"
          ],
          [
           "BARRILITO"
          ],
          [
           "PREMIUM"
          ],
          [
           "BARRILITO"
          ],
          [
           "MEGA"
          ],
          [
           "PREMIUM"
          ],
          [
           "BARRILITO"
          ],
          [
           "PREMIUM"
          ],
          [
           "PREMIUM"
          ],
          [
           "MEGA"
          ],
          [
           "PREMIUM"
          ],
          [
           "BARRILITO"
          ],
          [
           "MEGA"
          ],
          [
           "BARRILITO"
          ],
          [
           "MEGA"
          ],
          [
           "PREMIUM"
          ],
          [
           "BARRILITO"
          ],
          [
           "BARRILITO"
          ],
          [
           "BARRILITO"
          ],
          [
           "BARRILITO"
          ],
          [
           "BARRILITO"
          ],
          [
           "PREMIUM"
          ],
          [
           "MEGA"
          ],
          [
           "BARRILITO"
          ],
          [
           "PREMIUM"
          ],
          [
           "MEGA"
          ],
          [
           "PREMIUM"
          ],
          [
           "BARRILITO"
          ],
          [
           "BARRILITO"
          ],
          [
           "BARRILITO"
          ],
          [
           "MEGA"
          ],
          [
           "MEGA"
          ],
          [
           "PREMIUM"
          ],
          [
           "BARRILITO"
          ],
          [
           "BARRILITO"
          ],
          [
           "PREMIUM"
          ],
          [
           "MEGA"
          ],
          [
           "BARRILITO"
          ],
          [
           "MEGA"
          ],
          [
           "PREMIUM"
          ],
          [
           "BARRILITO"
          ],
          [
           "BARRILITO"
          ],
          [
           "MEGA"
          ],
          [
           "BARRILITO"
          ],
          [
           "PREMIUM"
          ],
          [
           "MEGA"
          ],
          [
           "MEGA"
          ],
          [
           "BARRILITO"
          ],
          [
           "PREMIUM"
          ],
          [
           "MEGA"
          ],
          [
           "BARRILITO"
          ],
          [
           "MEGA"
          ],
          [
           "MEGA"
          ],
          [
           "PREMIUM"
          ],
          [
           "BARRILITO"
          ],
          [
           "PREMIUM"
          ],
          [
           "MEGA"
          ],
          [
           "BARRILITO"
          ],
          [
           "PREMIUM"
          ],
          [
           "PREMIUM"
          ],
          [
           "MEGA"
          ],
          [
           "PREMIUM"
          ],
          [
           "BARRILITO"
          ],
          [
           "PREMIUM"
          ],
          [
           "BARRILITO"
          ],
          [
           "BARRILITO"
          ],
          [
           "MEGA"
          ],
          [
           "BARRILITO"
          ],
          [
           "BARRILITO"
          ],
          [
           "BARRILITO"
          ],
          [
           "BARRILITO"
          ],
          [
           "BARRILITO"
          ],
          [
           "PREMIUM"
          ],
          [
           "PREMIUM"
          ],
          [
           "PREMIUM"
          ],
          [
           "BARRILITO"
          ],
          [
           "PREMIUM"
          ],
          [
           "BARRILITO"
          ],
          [
           "BARRILITO"
          ],
          [
           "MEGA"
          ],
          [
           "MEGA"
          ],
          [
           "PREMIUM"
          ],
          [
           "PREMIUM"
          ],
          [
           "MEGA"
          ],
          [
           "PREMIUM"
          ],
          [
           "BARRILITO"
          ],
          [
           "BARRILITO"
          ],
          [
           "PREMIUM"
          ],
          [
           "PREMIUM"
          ],
          [
           "PREMIUM"
          ],
          [
           "MEGA"
          ],
          [
           "MEGA"
          ],
          [
           "PREMIUM"
          ],
          [
           "MEGA"
          ],
          [
           "BARRILITO"
          ],
          [
           "PREMIUM"
          ],
          [
           "MEGA"
          ],
          [
           "BARRILITO"
          ],
          [
           "BARRILITO"
          ],
          [
           "PREMIUM"
          ],
          [
           "MEGA"
          ],
          [
           "BARRILITO"
          ],
          [
           "PREMIUM"
          ],
          [
           "BARRILITO"
          ],
          [
           "MEGA"
          ],
          [
           "BARRILITO"
          ],
          [
           "BARRILITO"
          ],
          [
           "BARRILITO"
          ],
          [
           "BARRILITO"
          ],
          [
           "PREMIUM"
          ],
          [
           "MEGA"
          ],
          [
           "PREMIUM"
          ],
          [
           "MEGA"
          ],
          [
           "MEGA"
          ],
          [
           "BARRILITO"
          ],
          [
           "BARRILITO"
          ],
          [
           "PREMIUM"
          ],
          [
           "MEGA"
          ],
          [
           "MEGA"
          ],
          [
           "MEGA"
          ]
         ],
         "hovertemplate": "ciudad=MONTERREY<br>Ingresos ($)=%{x}<br>Costos Totales ($)=%{y}<br>Beneficio=%{marker.size}<br>categoria=%{customdata[0]}<extra></extra>",
         "legendgroup": "MONTERREY",
         "marker": {
          "color": "#ab63fa",
          "size": [
           24100,
           16000,
           5020,
           1150,
           1150,
           24100,
           5020,
           31750,
           25000,
           8440,
           5020,
           52000,
           5200,
           13750,
           11500,
           10150,
           16000,
           11500,
           12400,
           16000,
           4750,
           7000,
           52000,
           25000,
           65500,
           8800,
           6100,
           17800,
           11500,
           30400,
           27700,
           2050,
           25000,
           43000,
           7000,
           65500,
           3400,
           8800,
           7000,
           52000,
           11500,
           6100,
           7000,
           14200,
           52000,
           16000,
           11500,
           2500,
           6100,
           25000,
           52000,
           4300,
           7000,
           13750,
           7360,
           25000,
           6100,
           2680,
           9250,
           19600,
           4750,
           19600,
           38500,
           9700,
           8800,
           7450,
           8440,
           47500,
           47500,
           34000,
           2050,
           25000,
           19600,
           19600,
           9700,
           16000,
           37600,
           2500,
           8440,
           41200,
           13660,
           8440,
           18880,
           2500,
           65500,
           47500,
           11500,
           700,
           2680,
           19600,
           11500,
           16000,
           4750,
           11500,
           5020,
           12400,
           41200,
           4750,
           18880,
           13660,
           25000,
           8800,
           11500,
           2050,
           10150,
           11500,
           7900,
           12400,
           52000,
           13750,
           7900,
           8800,
           7360,
           250,
           6100,
           52000,
           65500,
           13660,
           2050,
           5200,
           27700,
           5020,
           5020,
           5020,
           250,
           2050,
           65500,
           27700,
           10150,
           1600,
           52000,
           4750,
           700,
           30400,
           18880,
           37600,
           11500,
           12400,
           11500,
           7000,
           27700,
           11500,
           2050,
           9700,
           38500,
           65500,
           11500,
           1600,
           65500,
           37600,
           7000,
           27700,
           4750,
           11500,
           65500,
           12400,
           34000,
           8800,
           65500,
           18250,
           7900,
           12400,
           65500,
           34000,
           10600,
           25000,
           10150,
           16000,
           340,
           6100,
           43000,
           34000,
           52000,
           700,
           5200,
           2050,
           13660,
           2500,
           41200,
           52000,
           37600,
           34000,
           31750,
           19600,
           7450,
           8800,
           4300,
           340,
           11500,
           11500,
           9700,
           43000,
           65500,
           340,
           11500,
           7360,
           6100,
           1150,
           8800,
           8800,
           65500,
           7450,
           18250,
           31750,
           25000,
           8800,
           41200,
           27700,
           12400,
           47500,
           2050,
           7360,
           52000,
           8800,
           30400,
           3220,
           16000,
           700,
           1600,
           65500,
           7450,
           7000,
           52000,
           14200,
           4300,
           24100,
           25000,
           27700,
           25000,
           8440,
           65500,
           25000,
           340,
           10150,
           10600,
           34000,
           10600,
           25000,
           16000,
           14200,
           2680,
           30400,
           18880,
           12400,
           43000
          ],
          "sizemode": "area",
          "sizeref": 166.25,
          "symbol": "circle"
         },
         "mode": "markers",
         "name": "MONTERREY",
         "showlegend": true,
         "type": "scattergl",
         "x": [
          29000,
          20000,
          7800,
          3500,
          3500,
          29000,
          7800,
          37500,
          30000,
          11600,
          7800,
          60000,
          8000,
          17500,
          15000,
          13500,
          20000,
          15000,
          16000,
          20000,
          7500,
          10000,
          60000,
          30000,
          75000,
          12000,
          9000,
          22000,
          15000,
          36000,
          33000,
          4500,
          30000,
          50000,
          10000,
          75000,
          6000,
          12000,
          10000,
          60000,
          15000,
          9000,
          10000,
          18000,
          60000,
          20000,
          15000,
          5000,
          9000,
          30000,
          60000,
          7000,
          10000,
          17500,
          10400,
          30000,
          9000,
          5200,
          12500,
          24000,
          7500,
          24000,
          45000,
          13000,
          12000,
          10500,
          11600,
          55000,
          55000,
          40000,
          4500,
          30000,
          24000,
          24000,
          13000,
          20000,
          44000,
          5000,
          11600,
          48000,
          17400,
          11600,
          23200,
          5000,
          75000,
          55000,
          15000,
          3000,
          5200,
          24000,
          15000,
          20000,
          7500,
          15000,
          7800,
          16000,
          48000,
          7500,
          23200,
          17400,
          30000,
          12000,
          15000,
          4500,
          13500,
          15000,
          11000,
          16000,
          60000,
          17500,
          11000,
          12000,
          10400,
          2500,
          9000,
          60000,
          75000,
          17400,
          4500,
          8000,
          33000,
          7800,
          7800,
          7800,
          2500,
          4500,
          75000,
          33000,
          13500,
          4000,
          60000,
          7500,
          3000,
          36000,
          23200,
          44000,
          15000,
          16000,
          15000,
          10000,
          33000,
          15000,
          4500,
          13000,
          45000,
          75000,
          15000,
          4000,
          75000,
          44000,
          10000,
          33000,
          7500,
          15000,
          75000,
          16000,
          40000,
          12000,
          75000,
          22500,
          11000,
          16000,
          75000,
          40000,
          14000,
          30000,
          13500,
          20000,
          2600,
          9000,
          50000,
          40000,
          60000,
          3000,
          8000,
          4500,
          17400,
          5000,
          48000,
          60000,
          44000,
          40000,
          37500,
          24000,
          10500,
          12000,
          7000,
          2600,
          15000,
          15000,
          13000,
          50000,
          75000,
          2600,
          15000,
          10400,
          9000,
          3500,
          12000,
          12000,
          75000,
          10500,
          22500,
          37500,
          30000,
          12000,
          48000,
          33000,
          16000,
          55000,
          4500,
          10400,
          60000,
          12000,
          36000,
          5800,
          20000,
          3000,
          4000,
          75000,
          10500,
          10000,
          60000,
          18000,
          7000,
          29000,
          30000,
          33000,
          30000,
          11600,
          75000,
          30000,
          2600,
          13500,
          14000,
          40000,
          14000,
          30000,
          20000,
          18000,
          5200,
          36000,
          23200,
          16000,
          50000
         ],
         "xaxis": "x",
         "y": [
          4900,
          4000,
          2780,
          2350,
          2350,
          4900,
          2780,
          5750,
          5000,
          3160,
          2780,
          8000,
          2800,
          3750,
          3500,
          3350,
          4000,
          3500,
          3600,
          4000,
          2750,
          3000,
          8000,
          5000,
          9500,
          3200,
          2900,
          4200,
          3500,
          5600,
          5300,
          2450,
          5000,
          7000,
          3000,
          9500,
          2600,
          3200,
          3000,
          8000,
          3500,
          2900,
          3000,
          3800,
          8000,
          4000,
          3500,
          2500,
          2900,
          5000,
          8000,
          2700,
          3000,
          3750,
          3040,
          5000,
          2900,
          2520,
          3250,
          4400,
          2750,
          4400,
          6500,
          3300,
          3200,
          3050,
          3160,
          7500,
          7500,
          6000,
          2450,
          5000,
          4400,
          4400,
          3300,
          4000,
          6400,
          2500,
          3160,
          6800,
          3740,
          3160,
          4320,
          2500,
          9500,
          7500,
          3500,
          2300,
          2520,
          4400,
          3500,
          4000,
          2750,
          3500,
          2780,
          3600,
          6800,
          2750,
          4320,
          3740,
          5000,
          3200,
          3500,
          2450,
          3350,
          3500,
          3100,
          3600,
          8000,
          3750,
          3100,
          3200,
          3040,
          2250,
          2900,
          8000,
          9500,
          3740,
          2450,
          2800,
          5300,
          2780,
          2780,
          2780,
          2250,
          2450,
          9500,
          5300,
          3350,
          2400,
          8000,
          2750,
          2300,
          5600,
          4320,
          6400,
          3500,
          3600,
          3500,
          3000,
          5300,
          3500,
          2450,
          3300,
          6500,
          9500,
          3500,
          2400,
          9500,
          6400,
          3000,
          5300,
          2750,
          3500,
          9500,
          3600,
          6000,
          3200,
          9500,
          4250,
          3100,
          3600,
          9500,
          6000,
          3400,
          5000,
          3350,
          4000,
          2260,
          2900,
          7000,
          6000,
          8000,
          2300,
          2800,
          2450,
          3740,
          2500,
          6800,
          8000,
          6400,
          6000,
          5750,
          4400,
          3050,
          3200,
          2700,
          2260,
          3500,
          3500,
          3300,
          7000,
          9500,
          2260,
          3500,
          3040,
          2900,
          2350,
          3200,
          3200,
          9500,
          3050,
          4250,
          5750,
          5000,
          3200,
          6800,
          5300,
          3600,
          7500,
          2450,
          3040,
          8000,
          3200,
          5600,
          2580,
          4000,
          2300,
          2400,
          9500,
          3050,
          3000,
          8000,
          3800,
          2700,
          4900,
          5000,
          5300,
          5000,
          3160,
          9500,
          5000,
          2260,
          3350,
          3400,
          6000,
          3400,
          5000,
          4000,
          3800,
          2520,
          5600,
          4320,
          3600,
          7000
         ],
         "yaxis": "y"
        },
        {
         "customdata": [
          [
           "PREMIUM"
          ],
          [
           "MEGA"
          ],
          [
           "BARRILITO"
          ],
          [
           "MEGA"
          ],
          [
           "PREMIUM"
          ],
          [
           "PREMIUM"
          ],
          [
           "MEGA"
          ],
          [
           "PREMIUM"
          ],
          [
           "PREMIUM"
          ],
          [
           "MEGA"
          ],
          [
           "PREMIUM"
          ],
          [
           "BARRILITO"
          ],
          [
           "PREMIUM"
          ],
          [
           "PREMIUM"
          ],
          [
           "PREMIUM"
          ],
          [
           "PREMIUM"
          ],
          [
           "MEGA"
          ],
          [
           "PREMIUM"
          ],
          [
           "BARRILITO"
          ],
          [
           "PREMIUM"
          ],
          [
           "BARRILITO"
          ],
          [
           "PREMIUM"
          ],
          [
           "BARRILITO"
          ],
          [
           "MEGA"
          ],
          [
           "MEGA"
          ],
          [
           "BARRILITO"
          ],
          [
           "MEGA"
          ],
          [
           "MEGA"
          ],
          [
           "PREMIUM"
          ],
          [
           "BARRILITO"
          ],
          [
           "BARRILITO"
          ],
          [
           "MEGA"
          ],
          [
           "BARRILITO"
          ],
          [
           "BARRILITO"
          ],
          [
           "BARRILITO"
          ],
          [
           "PREMIUM"
          ],
          [
           "BARRILITO"
          ],
          [
           "BARRILITO"
          ],
          [
           "BARRILITO"
          ],
          [
           "MEGA"
          ],
          [
           "MEGA"
          ],
          [
           "MEGA"
          ],
          [
           "MEGA"
          ],
          [
           "PREMIUM"
          ],
          [
           "PREMIUM"
          ],
          [
           "BARRILITO"
          ],
          [
           "MEGA"
          ],
          [
           "MEGA"
          ],
          [
           "PREMIUM"
          ],
          [
           "BARRILITO"
          ],
          [
           "PREMIUM"
          ],
          [
           "BARRILITO"
          ],
          [
           "PREMIUM"
          ],
          [
           "MEGA"
          ],
          [
           "MEGA"
          ],
          [
           "BARRILITO"
          ],
          [
           "PREMIUM"
          ],
          [
           "PREMIUM"
          ],
          [
           "PREMIUM"
          ],
          [
           "MEGA"
          ],
          [
           "PREMIUM"
          ],
          [
           "MEGA"
          ],
          [
           "MEGA"
          ],
          [
           "MEGA"
          ],
          [
           "MEGA"
          ],
          [
           "MEGA"
          ],
          [
           "MEGA"
          ],
          [
           "MEGA"
          ],
          [
           "MEGA"
          ],
          [
           "PREMIUM"
          ],
          [
           "PREMIUM"
          ],
          [
           "BARRILITO"
          ],
          [
           "BARRILITO"
          ],
          [
           "PREMIUM"
          ],
          [
           "MEGA"
          ],
          [
           "PREMIUM"
          ],
          [
           "BARRILITO"
          ],
          [
           "MEGA"
          ],
          [
           "MEGA"
          ],
          [
           "PREMIUM"
          ],
          [
           "MEGA"
          ],
          [
           "MEGA"
          ],
          [
           "BARRILITO"
          ],
          [
           "MEGA"
          ],
          [
           "MEGA"
          ],
          [
           "BARRILITO"
          ],
          [
           "MEGA"
          ],
          [
           "BARRILITO"
          ],
          [
           "BARRILITO"
          ],
          [
           "MEGA"
          ],
          [
           "MEGA"
          ],
          [
           "MEGA"
          ],
          [
           "MEGA"
          ],
          [
           "MEGA"
          ],
          [
           "BARRILITO"
          ],
          [
           "BARRILITO"
          ],
          [
           "PREMIUM"
          ],
          [
           "PREMIUM"
          ],
          [
           "PREMIUM"
          ],
          [
           "MEGA"
          ],
          [
           "BARRILITO"
          ],
          [
           "MEGA"
          ],
          [
           "PREMIUM"
          ],
          [
           "MEGA"
          ],
          [
           "PREMIUM"
          ],
          [
           "BARRILITO"
          ],
          [
           "MEGA"
          ],
          [
           "MEGA"
          ],
          [
           "PREMIUM"
          ],
          [
           "MEGA"
          ],
          [
           "BARRILITO"
          ],
          [
           "BARRILITO"
          ],
          [
           "MEGA"
          ],
          [
           "BARRILITO"
          ],
          [
           "PREMIUM"
          ],
          [
           "PREMIUM"
          ],
          [
           "PREMIUM"
          ],
          [
           "PREMIUM"
          ],
          [
           "MEGA"
          ],
          [
           "PREMIUM"
          ],
          [
           "MEGA"
          ],
          [
           "MEGA"
          ],
          [
           "MEGA"
          ],
          [
           "MEGA"
          ],
          [
           "BARRILITO"
          ],
          [
           "MEGA"
          ],
          [
           "BARRILITO"
          ],
          [
           "MEGA"
          ],
          [
           "BARRILITO"
          ],
          [
           "MEGA"
          ],
          [
           "MEGA"
          ],
          [
           "MEGA"
          ],
          [
           "BARRILITO"
          ],
          [
           "BARRILITO"
          ],
          [
           "MEGA"
          ],
          [
           "PREMIUM"
          ],
          [
           "MEGA"
          ],
          [
           "MEGA"
          ],
          [
           "MEGA"
          ],
          [
           "BARRILITO"
          ],
          [
           "PREMIUM"
          ],
          [
           "PREMIUM"
          ],
          [
           "MEGA"
          ],
          [
           "MEGA"
          ],
          [
           "BARRILITO"
          ],
          [
           "MEGA"
          ],
          [
           "BARRILITO"
          ],
          [
           "MEGA"
          ],
          [
           "PREMIUM"
          ],
          [
           "PREMIUM"
          ],
          [
           "PREMIUM"
          ],
          [
           "PREMIUM"
          ],
          [
           "BARRILITO"
          ],
          [
           "MEGA"
          ],
          [
           "MEGA"
          ],
          [
           "MEGA"
          ],
          [
           "MEGA"
          ],
          [
           "PREMIUM"
          ],
          [
           "MEGA"
          ],
          [
           "PREMIUM"
          ],
          [
           "BARRILITO"
          ],
          [
           "MEGA"
          ],
          [
           "MEGA"
          ],
          [
           "PREMIUM"
          ],
          [
           "BARRILITO"
          ],
          [
           "PREMIUM"
          ],
          [
           "MEGA"
          ],
          [
           "BARRILITO"
          ],
          [
           "MEGA"
          ],
          [
           "BARRILITO"
          ],
          [
           "MEGA"
          ],
          [
           "MEGA"
          ],
          [
           "PREMIUM"
          ],
          [
           "MEGA"
          ],
          [
           "MEGA"
          ],
          [
           "PREMIUM"
          ],
          [
           "BARRILITO"
          ],
          [
           "PREMIUM"
          ],
          [
           "BARRILITO"
          ],
          [
           "PREMIUM"
          ],
          [
           "PREMIUM"
          ],
          [
           "PREMIUM"
          ],
          [
           "MEGA"
          ],
          [
           "MEGA"
          ],
          [
           "BARRILITO"
          ],
          [
           "MEGA"
          ],
          [
           "PREMIUM"
          ],
          [
           "MEGA"
          ],
          [
           "BARRILITO"
          ],
          [
           "MEGA"
          ],
          [
           "MEGA"
          ],
          [
           "PREMIUM"
          ],
          [
           "PREMIUM"
          ],
          [
           "PREMIUM"
          ],
          [
           "BARRILITO"
          ],
          [
           "BARRILITO"
          ],
          [
           "PREMIUM"
          ],
          [
           "BARRILITO"
          ],
          [
           "BARRILITO"
          ],
          [
           "MEGA"
          ],
          [
           "BARRILITO"
          ],
          [
           "PREMIUM"
          ],
          [
           "MEGA"
          ],
          [
           "BARRILITO"
          ],
          [
           "MEGA"
          ],
          [
           "BARRILITO"
          ],
          [
           "MEGA"
          ],
          [
           "BARRILITO"
          ],
          [
           "MEGA"
          ],
          [
           "MEGA"
          ],
          [
           "BARRILITO"
          ],
          [
           "BARRILITO"
          ],
          [
           "MEGA"
          ],
          [
           "PREMIUM"
          ],
          [
           "MEGA"
          ],
          [
           "MEGA"
          ],
          [
           "MEGA"
          ],
          [
           "PREMIUM"
          ],
          [
           "MEGA"
          ],
          [
           "MEGA"
          ],
          [
           "BARRILITO"
          ],
          [
           "MEGA"
          ],
          [
           "PREMIUM"
          ],
          [
           "MEGA"
          ],
          [
           "MEGA"
          ],
          [
           "MEGA"
          ],
          [
           "BARRILITO"
          ],
          [
           "MEGA"
          ],
          [
           "MEGA"
          ],
          [
           "BARRILITO"
          ],
          [
           "BARRILITO"
          ],
          [
           "BARRILITO"
          ],
          [
           "BARRILITO"
          ],
          [
           "MEGA"
          ],
          [
           "PREMIUM"
          ],
          [
           "MEGA"
          ],
          [
           "PREMIUM"
          ],
          [
           "MEGA"
          ],
          [
           "PREMIUM"
          ],
          [
           "MEGA"
          ],
          [
           "MEGA"
          ],
          [
           "PREMIUM"
          ],
          [
           "PREMIUM"
          ],
          [
           "MEGA"
          ],
          [
           "PREMIUM"
          ],
          [
           "BARRILITO"
          ],
          [
           "BARRILITO"
          ],
          [
           "PREMIUM"
          ],
          [
           "BARRILITO"
          ],
          [
           "BARRILITO"
          ],
          [
           "BARRILITO"
          ],
          [
           "MEGA"
          ],
          [
           "BARRILITO"
          ],
          [
           "PREMIUM"
          ],
          [
           "PREMIUM"
          ],
          [
           "PREMIUM"
          ],
          [
           "BARRILITO"
          ],
          [
           "MEGA"
          ],
          [
           "BARRILITO"
          ],
          [
           "BARRILITO"
          ],
          [
           "BARRILITO"
          ],
          [
           "BARRILITO"
          ]
         ],
         "hovertemplate": "ciudad=MADRID<br>Ingresos ($)=%{x}<br>Costos Totales ($)=%{y}<br>Beneficio=%{marker.size}<br>categoria=%{customdata[0]}<extra></extra>",
         "legendgroup": "MADRID",
         "marker": {
          "color": "#FFA15A",
          "size": [
           2150,
           10250,
           15200,
           17000,
           14750,
           14750,
           8000,
           28700,
           4400,
           8000,
           53000,
           15200,
           2150,
           38600,
           31400,
           31400,
           5750,
           12500,
           8360,
           28700,
           19250,
           20600,
           66500,
           4220,
           26000,
           6020,
           8000,
           1250,
           18800,
           66500,
           1340,
           44000,
           7100,
           3680,
           12500,
           8900,
           19250,
           12500,
           3050,
           5750,
           10250,
           14660,
           4220,
           9800,
           42200,
           26000,
           17000,
           25100,
           42200,
           1340,
           11600,
           15200,
           31400,
           6200,
           9800,
           7100,
           12500,
           28700,
           1700,
           25100,
           42200,
           8000,
           2600,
           13400,
           14660,
           1250,
           3500,
           25100,
           26000,
           9800,
           18800,
           32750,
           66500,
           42200,
           1250,
           8900,
           66500,
           9440,
           17000,
           8900,
           5750,
           14660,
           11150,
           10250,
           5750,
           6020,
           10250,
           7100,
           8360,
           35000,
           14660,
           17000,
           9800,
           6200,
           26000,
           12500,
           1700,
           9800,
           38600,
           25100,
           10700,
           13400,
           9800,
           2600,
           12500,
           12500,
           6200,
           26000,
           2150,
           44000,
           39500,
           12500,
           9440,
           6020,
           31400,
           20600,
           5300,
           9800,
           6200,
           31400,
           2600,
           19880,
           1250,
           25100,
           15200,
           6200,
           10700,
           13400,
           11150,
           19880,
           13400,
           2600,
           3680,
           6020,
           8000,
           9800,
           5750,
           35000,
           3500,
           39500,
           2150,
           12500,
           17000,
           4220,
           10700,
           26000,
           12500,
           14660,
           12500,
           8450,
           48500,
           7100,
           26000,
           4220,
           8000,
           2600,
           13400,
           18800,
           17000,
           5300,
           32750,
           10250,
           1250,
           14750,
           32750,
           8450,
           26000,
           66500,
           25100,
           26000,
           26000,
           1250,
           9800,
           1250,
           1250,
           8450,
           32750,
           31400,
           5750,
           1700,
           12500,
           20600,
           8000,
           14660,
           3050,
           5750,
           2150,
           44000,
           66500,
           8000,
           19880,
           48500,
           7100,
           14750,
           66500,
           19250,
           48500,
           12500,
           11150,
           8000,
           26000,
           1700,
           6200,
           5750,
           8000,
           19250,
           3500,
           19250,
           5750,
           9440,
           12500,
           19250,
           2600,
           38600,
           25100,
           4220,
           4220,
           28700,
           9440,
           13400,
           3680,
           35000,
           42200,
           2600,
           5750,
           1250,
           19250,
           17000,
           8000,
           1340,
           12500,
           10700,
           10700,
           13400,
           38600,
           6200,
           31400,
           8000,
           14750,
           17000,
           17000,
           9800,
           42200,
           13400,
           11600,
           8360,
           15200,
           48500,
           3680,
           12500,
           12500,
           5750,
           19250,
           7100,
           12500,
           4400,
           3050,
           17000,
           3680,
           6020,
           53000,
           3680
          ],
          "sizemode": "area",
          "sizeref": 166.25,
          "symbol": "circle"
         },
         "mode": "markers",
         "name": "MADRID",
         "showlegend": true,
         "type": "scattergl",
         "x": [
          3500,
          12500,
          18000,
          20000,
          17500,
          17500,
          10000,
          33000,
          6000,
          10000,
          60000,
          18000,
          3500,
          44000,
          36000,
          36000,
          7500,
          15000,
          10400,
          33000,
          22500,
          24000,
          75000,
          5800,
          30000,
          7800,
          10000,
          2500,
          22000,
          75000,
          2600,
          50000,
          9000,
          5200,
          15000,
          11000,
          22500,
          15000,
          4500,
          7500,
          12500,
          17400,
          5800,
          12000,
          48000,
          30000,
          20000,
          29000,
          48000,
          2600,
          14000,
          18000,
          36000,
          8000,
          12000,
          9000,
          15000,
          33000,
          3000,
          29000,
          48000,
          10000,
          4000,
          16000,
          17400,
          2500,
          5000,
          29000,
          30000,
          12000,
          22000,
          37500,
          75000,
          48000,
          2500,
          11000,
          75000,
          11600,
          20000,
          11000,
          7500,
          17400,
          13500,
          12500,
          7500,
          7800,
          12500,
          9000,
          10400,
          40000,
          17400,
          20000,
          12000,
          8000,
          30000,
          15000,
          3000,
          12000,
          44000,
          29000,
          13000,
          16000,
          12000,
          4000,
          15000,
          15000,
          8000,
          30000,
          3500,
          50000,
          45000,
          15000,
          11600,
          7800,
          36000,
          24000,
          7000,
          12000,
          8000,
          36000,
          4000,
          23200,
          2500,
          29000,
          18000,
          8000,
          13000,
          16000,
          13500,
          23200,
          16000,
          4000,
          5200,
          7800,
          10000,
          12000,
          7500,
          40000,
          5000,
          45000,
          3500,
          15000,
          20000,
          5800,
          13000,
          30000,
          15000,
          17400,
          15000,
          10500,
          55000,
          9000,
          30000,
          5800,
          10000,
          4000,
          16000,
          22000,
          20000,
          7000,
          37500,
          12500,
          2500,
          17500,
          37500,
          10500,
          30000,
          75000,
          29000,
          30000,
          30000,
          2500,
          12000,
          2500,
          2500,
          10500,
          37500,
          36000,
          7500,
          3000,
          15000,
          24000,
          10000,
          17400,
          4500,
          7500,
          3500,
          50000,
          75000,
          10000,
          23200,
          55000,
          9000,
          17500,
          75000,
          22500,
          55000,
          15000,
          13500,
          10000,
          30000,
          3000,
          8000,
          7500,
          10000,
          22500,
          5000,
          22500,
          7500,
          11600,
          15000,
          22500,
          4000,
          44000,
          29000,
          5800,
          5800,
          33000,
          11600,
          16000,
          5200,
          40000,
          48000,
          4000,
          7500,
          2500,
          22500,
          20000,
          10000,
          2600,
          15000,
          13000,
          13000,
          16000,
          44000,
          8000,
          36000,
          10000,
          17500,
          20000,
          20000,
          12000,
          48000,
          16000,
          14000,
          10400,
          18000,
          55000,
          5200,
          15000,
          15000,
          7500,
          22500,
          9000,
          15000,
          6000,
          4500,
          20000,
          5200,
          7800,
          60000,
          5200
         ],
         "xaxis": "x",
         "y": [
          1350,
          2250,
          2800,
          3000,
          2750,
          2750,
          2000,
          4300,
          1600,
          2000,
          7000,
          2800,
          1350,
          5400,
          4600,
          4600,
          1750,
          2500,
          2040,
          4300,
          3250,
          3400,
          8500,
          1580,
          4000,
          1780,
          2000,
          1250,
          3200,
          8500,
          1260,
          6000,
          1900,
          1520,
          2500,
          2100,
          3250,
          2500,
          1450,
          1750,
          2250,
          2740,
          1580,
          2200,
          5800,
          4000,
          3000,
          3900,
          5800,
          1260,
          2400,
          2800,
          4600,
          1800,
          2200,
          1900,
          2500,
          4300,
          1300,
          3900,
          5800,
          2000,
          1400,
          2600,
          2740,
          1250,
          1500,
          3900,
          4000,
          2200,
          3200,
          4750,
          8500,
          5800,
          1250,
          2100,
          8500,
          2160,
          3000,
          2100,
          1750,
          2740,
          2350,
          2250,
          1750,
          1780,
          2250,
          1900,
          2040,
          5000,
          2740,
          3000,
          2200,
          1800,
          4000,
          2500,
          1300,
          2200,
          5400,
          3900,
          2300,
          2600,
          2200,
          1400,
          2500,
          2500,
          1800,
          4000,
          1350,
          6000,
          5500,
          2500,
          2160,
          1780,
          4600,
          3400,
          1700,
          2200,
          1800,
          4600,
          1400,
          3320,
          1250,
          3900,
          2800,
          1800,
          2300,
          2600,
          2350,
          3320,
          2600,
          1400,
          1520,
          1780,
          2000,
          2200,
          1750,
          5000,
          1500,
          5500,
          1350,
          2500,
          3000,
          1580,
          2300,
          4000,
          2500,
          2740,
          2500,
          2050,
          6500,
          1900,
          4000,
          1580,
          2000,
          1400,
          2600,
          3200,
          3000,
          1700,
          4750,
          2250,
          1250,
          2750,
          4750,
          2050,
          4000,
          8500,
          3900,
          4000,
          4000,
          1250,
          2200,
          1250,
          1250,
          2050,
          4750,
          4600,
          1750,
          1300,
          2500,
          3400,
          2000,
          2740,
          1450,
          1750,
          1350,
          6000,
          8500,
          2000,
          3320,
          6500,
          1900,
          2750,
          8500,
          3250,
          6500,
          2500,
          2350,
          2000,
          4000,
          1300,
          1800,
          1750,
          2000,
          3250,
          1500,
          3250,
          1750,
          2160,
          2500,
          3250,
          1400,
          5400,
          3900,
          1580,
          1580,
          4300,
          2160,
          2600,
          1520,
          5000,
          5800,
          1400,
          1750,
          1250,
          3250,
          3000,
          2000,
          1260,
          2500,
          2300,
          2300,
          2600,
          5400,
          1800,
          4600,
          2000,
          2750,
          3000,
          3000,
          2200,
          5800,
          2600,
          2400,
          2040,
          2800,
          6500,
          1520,
          2500,
          2500,
          1750,
          3250,
          1900,
          2500,
          1600,
          1450,
          3000,
          1520,
          1780,
          7000,
          1520
         ],
         "yaxis": "y"
        }
       ],
       "layout": {
        "height": 600,
        "legend": {
         "itemsizing": "constant",
         "title": {
          "text": "Ciudad"
         },
         "tracegroupgap": 0
        },
        "template": {
         "data": {
          "bar": [
           {
            "error_x": {
             "color": "#2a3f5f"
            },
            "error_y": {
             "color": "#2a3f5f"
            },
            "marker": {
             "line": {
              "color": "white",
              "width": 0.5
             },
             "pattern": {
              "fillmode": "overlay",
              "size": 10,
              "solidity": 0.2
             }
            },
            "type": "bar"
           }
          ],
          "barpolar": [
           {
            "marker": {
             "line": {
              "color": "white",
              "width": 0.5
             },
             "pattern": {
              "fillmode": "overlay",
              "size": 10,
              "solidity": 0.2
             }
            },
            "type": "barpolar"
           }
          ],
          "carpet": [
           {
            "aaxis": {
             "endlinecolor": "#2a3f5f",
             "gridcolor": "#C8D4E3",
             "linecolor": "#C8D4E3",
             "minorgridcolor": "#C8D4E3",
             "startlinecolor": "#2a3f5f"
            },
            "baxis": {
             "endlinecolor": "#2a3f5f",
             "gridcolor": "#C8D4E3",
             "linecolor": "#C8D4E3",
             "minorgridcolor": "#C8D4E3",
             "startlinecolor": "#2a3f5f"
            },
            "type": "carpet"
           }
          ],
          "choropleth": [
           {
            "colorbar": {
             "outlinewidth": 0,
             "ticks": ""
            },
            "type": "choropleth"
           }
          ],
          "contour": [
           {
            "colorbar": {
             "outlinewidth": 0,
             "ticks": ""
            },
            "colorscale": [
             [
              0,
              "#0d0887"
             ],
             [
              0.1111111111111111,
              "#46039f"
             ],
             [
              0.2222222222222222,
              "#7201a8"
             ],
             [
              0.3333333333333333,
              "#9c179e"
             ],
             [
              0.4444444444444444,
              "#bd3786"
             ],
             [
              0.5555555555555556,
              "#d8576b"
             ],
             [
              0.6666666666666666,
              "#ed7953"
             ],
             [
              0.7777777777777778,
              "#fb9f3a"
             ],
             [
              0.8888888888888888,
              "#fdca26"
             ],
             [
              1,
              "#f0f921"
             ]
            ],
            "type": "contour"
           }
          ],
          "contourcarpet": [
           {
            "colorbar": {
             "outlinewidth": 0,
             "ticks": ""
            },
            "type": "contourcarpet"
           }
          ],
          "heatmap": [
           {
            "colorbar": {
             "outlinewidth": 0,
             "ticks": ""
            },
            "colorscale": [
             [
              0,
              "#0d0887"
             ],
             [
              0.1111111111111111,
              "#46039f"
             ],
             [
              0.2222222222222222,
              "#7201a8"
             ],
             [
              0.3333333333333333,
              "#9c179e"
             ],
             [
              0.4444444444444444,
              "#bd3786"
             ],
             [
              0.5555555555555556,
              "#d8576b"
             ],
             [
              0.6666666666666666,
              "#ed7953"
             ],
             [
              0.7777777777777778,
              "#fb9f3a"
             ],
             [
              0.8888888888888888,
              "#fdca26"
             ],
             [
              1,
              "#f0f921"
             ]
            ],
            "type": "heatmap"
           }
          ],
          "heatmapgl": [
           {
            "colorbar": {
             "outlinewidth": 0,
             "ticks": ""
            },
            "colorscale": [
             [
              0,
              "#0d0887"
             ],
             [
              0.1111111111111111,
              "#46039f"
             ],
             [
              0.2222222222222222,
              "#7201a8"
             ],
             [
              0.3333333333333333,
              "#9c179e"
             ],
             [
              0.4444444444444444,
              "#bd3786"
             ],
             [
              0.5555555555555556,
              "#d8576b"
             ],
             [
              0.6666666666666666,
              "#ed7953"
             ],
             [
              0.7777777777777778,
              "#fb9f3a"
             ],
             [
              0.8888888888888888,
              "#fdca26"
             ],
             [
              1,
              "#f0f921"
             ]
            ],
            "type": "heatmapgl"
           }
          ],
          "histogram": [
           {
            "marker": {
             "pattern": {
              "fillmode": "overlay",
              "size": 10,
              "solidity": 0.2
             }
            },
            "type": "histogram"
           }
          ],
          "histogram2d": [
           {
            "colorbar": {
             "outlinewidth": 0,
             "ticks": ""
            },
            "colorscale": [
             [
              0,
              "#0d0887"
             ],
             [
              0.1111111111111111,
              "#46039f"
             ],
             [
              0.2222222222222222,
              "#7201a8"
             ],
             [
              0.3333333333333333,
              "#9c179e"
             ],
             [
              0.4444444444444444,
              "#bd3786"
             ],
             [
              0.5555555555555556,
              "#d8576b"
             ],
             [
              0.6666666666666666,
              "#ed7953"
             ],
             [
              0.7777777777777778,
              "#fb9f3a"
             ],
             [
              0.8888888888888888,
              "#fdca26"
             ],
             [
              1,
              "#f0f921"
             ]
            ],
            "type": "histogram2d"
           }
          ],
          "histogram2dcontour": [
           {
            "colorbar": {
             "outlinewidth": 0,
             "ticks": ""
            },
            "colorscale": [
             [
              0,
              "#0d0887"
             ],
             [
              0.1111111111111111,
              "#46039f"
             ],
             [
              0.2222222222222222,
              "#7201a8"
             ],
             [
              0.3333333333333333,
              "#9c179e"
             ],
             [
              0.4444444444444444,
              "#bd3786"
             ],
             [
              0.5555555555555556,
              "#d8576b"
             ],
             [
              0.6666666666666666,
              "#ed7953"
             ],
             [
              0.7777777777777778,
              "#fb9f3a"
             ],
             [
              0.8888888888888888,
              "#fdca26"
             ],
             [
              1,
              "#f0f921"
             ]
            ],
            "type": "histogram2dcontour"
           }
          ],
          "mesh3d": [
           {
            "colorbar": {
             "outlinewidth": 0,
             "ticks": ""
            },
            "type": "mesh3d"
           }
          ],
          "parcoords": [
           {
            "line": {
             "colorbar": {
              "outlinewidth": 0,
              "ticks": ""
             }
            },
            "type": "parcoords"
           }
          ],
          "pie": [
           {
            "automargin": true,
            "type": "pie"
           }
          ],
          "scatter": [
           {
            "fillpattern": {
             "fillmode": "overlay",
             "size": 10,
             "solidity": 0.2
            },
            "type": "scatter"
           }
          ],
          "scatter3d": [
           {
            "line": {
             "colorbar": {
              "outlinewidth": 0,
              "ticks": ""
             }
            },
            "marker": {
             "colorbar": {
              "outlinewidth": 0,
              "ticks": ""
             }
            },
            "type": "scatter3d"
           }
          ],
          "scattercarpet": [
           {
            "marker": {
             "colorbar": {
              "outlinewidth": 0,
              "ticks": ""
             }
            },
            "type": "scattercarpet"
           }
          ],
          "scattergeo": [
           {
            "marker": {
             "colorbar": {
              "outlinewidth": 0,
              "ticks": ""
             }
            },
            "type": "scattergeo"
           }
          ],
          "scattergl": [
           {
            "marker": {
             "colorbar": {
              "outlinewidth": 0,
              "ticks": ""
             }
            },
            "type": "scattergl"
           }
          ],
          "scattermapbox": [
           {
            "marker": {
             "colorbar": {
              "outlinewidth": 0,
              "ticks": ""
             }
            },
            "type": "scattermapbox"
           }
          ],
          "scatterpolar": [
           {
            "marker": {
             "colorbar": {
              "outlinewidth": 0,
              "ticks": ""
             }
            },
            "type": "scatterpolar"
           }
          ],
          "scatterpolargl": [
           {
            "marker": {
             "colorbar": {
              "outlinewidth": 0,
              "ticks": ""
             }
            },
            "type": "scatterpolargl"
           }
          ],
          "scatterternary": [
           {
            "marker": {
             "colorbar": {
              "outlinewidth": 0,
              "ticks": ""
             }
            },
            "type": "scatterternary"
           }
          ],
          "surface": [
           {
            "colorbar": {
             "outlinewidth": 0,
             "ticks": ""
            },
            "colorscale": [
             [
              0,
              "#0d0887"
             ],
             [
              0.1111111111111111,
              "#46039f"
             ],
             [
              0.2222222222222222,
              "#7201a8"
             ],
             [
              0.3333333333333333,
              "#9c179e"
             ],
             [
              0.4444444444444444,
              "#bd3786"
             ],
             [
              0.5555555555555556,
              "#d8576b"
             ],
             [
              0.6666666666666666,
              "#ed7953"
             ],
             [
              0.7777777777777778,
              "#fb9f3a"
             ],
             [
              0.8888888888888888,
              "#fdca26"
             ],
             [
              1,
              "#f0f921"
             ]
            ],
            "type": "surface"
           }
          ],
          "table": [
           {
            "cells": {
             "fill": {
              "color": "#EBF0F8"
             },
             "line": {
              "color": "white"
             }
            },
            "header": {
             "fill": {
              "color": "#C8D4E3"
             },
             "line": {
              "color": "white"
             }
            },
            "type": "table"
           }
          ]
         },
         "layout": {
          "annotationdefaults": {
           "arrowcolor": "#2a3f5f",
           "arrowhead": 0,
           "arrowwidth": 1
          },
          "autotypenumbers": "strict",
          "coloraxis": {
           "colorbar": {
            "outlinewidth": 0,
            "ticks": ""
           }
          },
          "colorscale": {
           "diverging": [
            [
             0,
             "#8e0152"
            ],
            [
             0.1,
             "#c51b7d"
            ],
            [
             0.2,
             "#de77ae"
            ],
            [
             0.3,
             "#f1b6da"
            ],
            [
             0.4,
             "#fde0ef"
            ],
            [
             0.5,
             "#f7f7f7"
            ],
            [
             0.6,
             "#e6f5d0"
            ],
            [
             0.7,
             "#b8e186"
            ],
            [
             0.8,
             "#7fbc41"
            ],
            [
             0.9,
             "#4d9221"
            ],
            [
             1,
             "#276419"
            ]
           ],
           "sequential": [
            [
             0,
             "#0d0887"
            ],
            [
             0.1111111111111111,
             "#46039f"
            ],
            [
             0.2222222222222222,
             "#7201a8"
            ],
            [
             0.3333333333333333,
             "#9c179e"
            ],
            [
             0.4444444444444444,
             "#bd3786"
            ],
            [
             0.5555555555555556,
             "#d8576b"
            ],
            [
             0.6666666666666666,
             "#ed7953"
            ],
            [
             0.7777777777777778,
             "#fb9f3a"
            ],
            [
             0.8888888888888888,
             "#fdca26"
            ],
            [
             1,
             "#f0f921"
            ]
           ],
           "sequentialminus": [
            [
             0,
             "#0d0887"
            ],
            [
             0.1111111111111111,
             "#46039f"
            ],
            [
             0.2222222222222222,
             "#7201a8"
            ],
            [
             0.3333333333333333,
             "#9c179e"
            ],
            [
             0.4444444444444444,
             "#bd3786"
            ],
            [
             0.5555555555555556,
             "#d8576b"
            ],
            [
             0.6666666666666666,
             "#ed7953"
            ],
            [
             0.7777777777777778,
             "#fb9f3a"
            ],
            [
             0.8888888888888888,
             "#fdca26"
            ],
            [
             1,
             "#f0f921"
            ]
           ]
          },
          "colorway": [
           "#636efa",
           "#EF553B",
           "#00cc96",
           "#ab63fa",
           "#FFA15A",
           "#19d3f3",
           "#FF6692",
           "#B6E880",
           "#FF97FF",
           "#FECB52"
          ],
          "font": {
           "color": "#2a3f5f"
          },
          "geo": {
           "bgcolor": "white",
           "lakecolor": "white",
           "landcolor": "white",
           "showlakes": true,
           "showland": true,
           "subunitcolor": "#C8D4E3"
          },
          "hoverlabel": {
           "align": "left"
          },
          "hovermode": "closest",
          "mapbox": {
           "style": "light"
          },
          "paper_bgcolor": "white",
          "plot_bgcolor": "white",
          "polar": {
           "angularaxis": {
            "gridcolor": "#EBF0F8",
            "linecolor": "#EBF0F8",
            "ticks": ""
           },
           "bgcolor": "white",
           "radialaxis": {
            "gridcolor": "#EBF0F8",
            "linecolor": "#EBF0F8",
            "ticks": ""
           }
          },
          "scene": {
           "xaxis": {
            "backgroundcolor": "white",
            "gridcolor": "#DFE8F3",
            "gridwidth": 2,
            "linecolor": "#EBF0F8",
            "showbackground": true,
            "ticks": "",
            "zerolinecolor": "#EBF0F8"
           },
           "yaxis": {
            "backgroundcolor": "white",
            "gridcolor": "#DFE8F3",
            "gridwidth": 2,
            "linecolor": "#EBF0F8",
            "showbackground": true,
            "ticks": "",
            "zerolinecolor": "#EBF0F8"
           },
           "zaxis": {
            "backgroundcolor": "white",
            "gridcolor": "#DFE8F3",
            "gridwidth": 2,
            "linecolor": "#EBF0F8",
            "showbackground": true,
            "ticks": "",
            "zerolinecolor": "#EBF0F8"
           }
          },
          "shapedefaults": {
           "line": {
            "color": "#2a3f5f"
           }
          },
          "ternary": {
           "aaxis": {
            "gridcolor": "#DFE8F3",
            "linecolor": "#A2B1C6",
            "ticks": ""
           },
           "baxis": {
            "gridcolor": "#DFE8F3",
            "linecolor": "#A2B1C6",
            "ticks": ""
           },
           "bgcolor": "white",
           "caxis": {
            "gridcolor": "#DFE8F3",
            "linecolor": "#A2B1C6",
            "ticks": ""
           }
          },
          "title": {
           "x": 0.05
          },
          "xaxis": {
           "automargin": true,
           "gridcolor": "#EBF0F8",
           "linecolor": "#EBF0F8",
           "ticks": "",
           "title": {
            "standoff": 15
           },
           "zerolinecolor": "#EBF0F8",
           "zerolinewidth": 2
          },
          "yaxis": {
           "automargin": true,
           "gridcolor": "#EBF0F8",
           "linecolor": "#EBF0F8",
           "ticks": "",
           "title": {
            "standoff": 15
           },
           "zerolinecolor": "#EBF0F8",
           "zerolinewidth": 2
          }
         }
        },
        "title": {
         "text": "Relación entre Ingresos, Costos y Beneficio (sin beneficios negativos)"
        },
        "width": 800,
        "xaxis": {
         "anchor": "y",
         "domain": [
          0,
          1
         ],
         "gridcolor": "lightgrey",
         "title": {
          "text": "Ingresos ($)"
         }
        },
        "yaxis": {
         "anchor": "x",
         "domain": [
          0,
          1
         ],
         "gridcolor": "lightgrey",
         "title": {
          "text": "Costos Totales ($)"
         }
        }
       }
      }
     },
     "metadata": {},
     "output_type": "display_data"
    }
   ],
   "source": [
    "# Filtrar datos para excluir beneficios negativos\n",
    "ventas_filtrada = ventas_completa[ventas_completa[\"Beneficio\"] >= 0]\n",
    "\n",
    "# Crear el gráfico de dispersión\n",
    "fig = px.scatter(\n",
    "    ventas_filtrada,\n",
    "    x=\"Ingresos\",\n",
    "    y=\"Costo_Total\",\n",
    "    size=\"Beneficio\",\n",
    "    color=\"ciudad\",\n",
    "    title=\"Relación entre Ingresos, Costos y Beneficio (sin beneficios negativos)\",\n",
    "    labels={\"Ingresos\": \"Ingresos ($)\", \"Costo_Total\": \"Costos Totales ($)\"},\n",
    "    hover_data=[\"categoria\"],\n",
    "    template=\"plotly_white\",\n",
    "    size_max=20,\n",
    ")\n",
    "\n",
    "fig.update_layout(\n",
    "    xaxis=dict(title=\"Ingresos ($)\", gridcolor=\"lightgrey\"),\n",
    "    yaxis=dict(title=\"Costos Totales ($)\", gridcolor=\"lightgrey\"),\n",
    "    legend_title=dict(text=\"Ciudad\"),\n",
    "    height=600,\n",
    "    width=800,\n",
    ")\n",
    "\n",
    "fig.show()"
   ]
  },
  {
   "cell_type": "code",
   "execution_count": 25,
   "metadata": {},
   "outputs": [
    {
     "data": {
      "text/html": [
       "<div>\n",
       "<style scoped>\n",
       "    .dataframe tbody tr th:only-of-type {\n",
       "        vertical-align: middle;\n",
       "    }\n",
       "\n",
       "    .dataframe tbody tr th {\n",
       "        vertical-align: top;\n",
       "    }\n",
       "\n",
       "    .dataframe thead th {\n",
       "        text-align: right;\n",
       "    }\n",
       "</style>\n",
       "<table border=\"1\" class=\"dataframe\">\n",
       "  <thead>\n",
       "    <tr style=\"text-align: right;\">\n",
       "      <th></th>\n",
       "      <th>cod_orden</th>\n",
       "      <th>cod_producto</th>\n",
       "      <th>cod_ciudad</th>\n",
       "      <th>unidades_vendidas</th>\n",
       "      <th>fecha_orden</th>\n",
       "      <th>tipo_venta</th>\n",
       "      <th>nom_producto</th>\n",
       "      <th>precio_unitario</th>\n",
       "      <th>categoria</th>\n",
       "      <th>costo_unitario</th>\n",
       "      <th>ciudad</th>\n",
       "      <th>costo_asociado_al_domicilio</th>\n",
       "      <th>Ingresos</th>\n",
       "      <th>Costo_Total</th>\n",
       "      <th>Beneficio</th>\n",
       "    </tr>\n",
       "  </thead>\n",
       "  <tbody>\n",
       "    <tr>\n",
       "      <th>44</th>\n",
       "      <td>5113024</td>\n",
       "      <td>6</td>\n",
       "      <td>1</td>\n",
       "      <td>1</td>\n",
       "      <td>2024-03-03</td>\n",
       "      <td>DOMICILIO</td>\n",
       "      <td>PACIFICO MEGA</td>\n",
       "      <td>2500.0</td>\n",
       "      <td>MEGA</td>\n",
       "      <td>250.0</td>\n",
       "      <td>BOGOTA</td>\n",
       "      <td>3000.0</td>\n",
       "      <td>2500.0</td>\n",
       "      <td>3250.0</td>\n",
       "      <td>-750.0</td>\n",
       "    </tr>\n",
       "    <tr>\n",
       "      <th>87</th>\n",
       "      <td>5061468</td>\n",
       "      <td>3</td>\n",
       "      <td>1</td>\n",
       "      <td>1</td>\n",
       "      <td>2024-03-24</td>\n",
       "      <td>TIENDA</td>\n",
       "      <td>VICTORIA</td>\n",
       "      <td>2600.0</td>\n",
       "      <td>BARRILITO</td>\n",
       "      <td>260.0</td>\n",
       "      <td>BOGOTA</td>\n",
       "      <td>3000.0</td>\n",
       "      <td>2600.0</td>\n",
       "      <td>3260.0</td>\n",
       "      <td>-660.0</td>\n",
       "    </tr>\n",
       "    <tr>\n",
       "      <th>103</th>\n",
       "      <td>6071738</td>\n",
       "      <td>9</td>\n",
       "      <td>1</td>\n",
       "      <td>1</td>\n",
       "      <td>2024-03-05</td>\n",
       "      <td>DOMICILIO</td>\n",
       "      <td>BUD LG</td>\n",
       "      <td>3000.0</td>\n",
       "      <td>PREMIUM</td>\n",
       "      <td>300.0</td>\n",
       "      <td>BOGOTA</td>\n",
       "      <td>3000.0</td>\n",
       "      <td>3000.0</td>\n",
       "      <td>3300.0</td>\n",
       "      <td>-300.0</td>\n",
       "    </tr>\n",
       "    <tr>\n",
       "      <th>501</th>\n",
       "      <td>6884532</td>\n",
       "      <td>3</td>\n",
       "      <td>1</td>\n",
       "      <td>1</td>\n",
       "      <td>2024-01-05</td>\n",
       "      <td>TIENDA</td>\n",
       "      <td>VICTORIA</td>\n",
       "      <td>2600.0</td>\n",
       "      <td>BARRILITO</td>\n",
       "      <td>260.0</td>\n",
       "      <td>BOGOTA</td>\n",
       "      <td>3000.0</td>\n",
       "      <td>2600.0</td>\n",
       "      <td>3260.0</td>\n",
       "      <td>-660.0</td>\n",
       "    </tr>\n",
       "    <tr>\n",
       "      <th>528</th>\n",
       "      <td>5094053</td>\n",
       "      <td>3</td>\n",
       "      <td>1</td>\n",
       "      <td>1</td>\n",
       "      <td>2024-01-30</td>\n",
       "      <td>TIENDA</td>\n",
       "      <td>VICTORIA</td>\n",
       "      <td>2600.0</td>\n",
       "      <td>BARRILITO</td>\n",
       "      <td>260.0</td>\n",
       "      <td>BOGOTA</td>\n",
       "      <td>3000.0</td>\n",
       "      <td>2600.0</td>\n",
       "      <td>3260.0</td>\n",
       "      <td>-660.0</td>\n",
       "    </tr>\n",
       "    <tr>\n",
       "      <th>608</th>\n",
       "      <td>5353929</td>\n",
       "      <td>3</td>\n",
       "      <td>1</td>\n",
       "      <td>1</td>\n",
       "      <td>2024-01-01</td>\n",
       "      <td>DOMICILIO</td>\n",
       "      <td>VICTORIA</td>\n",
       "      <td>2600.0</td>\n",
       "      <td>BARRILITO</td>\n",
       "      <td>260.0</td>\n",
       "      <td>BOGOTA</td>\n",
       "      <td>3000.0</td>\n",
       "      <td>2600.0</td>\n",
       "      <td>3260.0</td>\n",
       "      <td>-660.0</td>\n",
       "    </tr>\n",
       "    <tr>\n",
       "      <th>1000</th>\n",
       "      <td>6851367</td>\n",
       "      <td>9</td>\n",
       "      <td>1</td>\n",
       "      <td>1</td>\n",
       "      <td>2024-02-05</td>\n",
       "      <td>TIENDA</td>\n",
       "      <td>BUD LG</td>\n",
       "      <td>3000.0</td>\n",
       "      <td>PREMIUM</td>\n",
       "      <td>300.0</td>\n",
       "      <td>BOGOTA</td>\n",
       "      <td>3000.0</td>\n",
       "      <td>3000.0</td>\n",
       "      <td>3300.0</td>\n",
       "      <td>-300.0</td>\n",
       "    </tr>\n",
       "    <tr>\n",
       "      <th>1010</th>\n",
       "      <td>5592958</td>\n",
       "      <td>3</td>\n",
       "      <td>1</td>\n",
       "      <td>1</td>\n",
       "      <td>2024-03-21</td>\n",
       "      <td>TIENDA</td>\n",
       "      <td>VICTORIA</td>\n",
       "      <td>2600.0</td>\n",
       "      <td>BARRILITO</td>\n",
       "      <td>260.0</td>\n",
       "      <td>BOGOTA</td>\n",
       "      <td>3000.0</td>\n",
       "      <td>2600.0</td>\n",
       "      <td>3260.0</td>\n",
       "      <td>-660.0</td>\n",
       "    </tr>\n",
       "    <tr>\n",
       "      <th>1026</th>\n",
       "      <td>6671839</td>\n",
       "      <td>3</td>\n",
       "      <td>1</td>\n",
       "      <td>1</td>\n",
       "      <td>2024-02-19</td>\n",
       "      <td>DOMICILIO</td>\n",
       "      <td>VICTORIA</td>\n",
       "      <td>2600.0</td>\n",
       "      <td>BARRILITO</td>\n",
       "      <td>260.0</td>\n",
       "      <td>BOGOTA</td>\n",
       "      <td>3000.0</td>\n",
       "      <td>2600.0</td>\n",
       "      <td>3260.0</td>\n",
       "      <td>-660.0</td>\n",
       "    </tr>\n",
       "    <tr>\n",
       "      <th>1244</th>\n",
       "      <td>6916049</td>\n",
       "      <td>3</td>\n",
       "      <td>1</td>\n",
       "      <td>1</td>\n",
       "      <td>2024-02-20</td>\n",
       "      <td>DOMICILIO</td>\n",
       "      <td>VICTORIA</td>\n",
       "      <td>2600.0</td>\n",
       "      <td>BARRILITO</td>\n",
       "      <td>260.0</td>\n",
       "      <td>BOGOTA</td>\n",
       "      <td>3000.0</td>\n",
       "      <td>2600.0</td>\n",
       "      <td>3260.0</td>\n",
       "      <td>-660.0</td>\n",
       "    </tr>\n",
       "    <tr>\n",
       "      <th>1274</th>\n",
       "      <td>6113053</td>\n",
       "      <td>6</td>\n",
       "      <td>1</td>\n",
       "      <td>1</td>\n",
       "      <td>2024-02-24</td>\n",
       "      <td>TIENDA</td>\n",
       "      <td>PACIFICO MEGA</td>\n",
       "      <td>2500.0</td>\n",
       "      <td>MEGA</td>\n",
       "      <td>250.0</td>\n",
       "      <td>BOGOTA</td>\n",
       "      <td>3000.0</td>\n",
       "      <td>2500.0</td>\n",
       "      <td>3250.0</td>\n",
       "      <td>-750.0</td>\n",
       "    </tr>\n",
       "    <tr>\n",
       "      <th>1292</th>\n",
       "      <td>6306469</td>\n",
       "      <td>6</td>\n",
       "      <td>1</td>\n",
       "      <td>1</td>\n",
       "      <td>2024-01-02</td>\n",
       "      <td>DOMICILIO</td>\n",
       "      <td>PACIFICO MEGA</td>\n",
       "      <td>2500.0</td>\n",
       "      <td>MEGA</td>\n",
       "      <td>250.0</td>\n",
       "      <td>BOGOTA</td>\n",
       "      <td>3000.0</td>\n",
       "      <td>2500.0</td>\n",
       "      <td>3250.0</td>\n",
       "      <td>-750.0</td>\n",
       "    </tr>\n",
       "  </tbody>\n",
       "</table>\n",
       "</div>"
      ],
      "text/plain": [
       "      cod_orden  cod_producto  cod_ciudad  unidades_vendidas fecha_orden  \\\n",
       "44      5113024             6           1                  1  2024-03-03   \n",
       "87      5061468             3           1                  1  2024-03-24   \n",
       "103     6071738             9           1                  1  2024-03-05   \n",
       "501     6884532             3           1                  1  2024-01-05   \n",
       "528     5094053             3           1                  1  2024-01-30   \n",
       "608     5353929             3           1                  1  2024-01-01   \n",
       "1000    6851367             9           1                  1  2024-02-05   \n",
       "1010    5592958             3           1                  1  2024-03-21   \n",
       "1026    6671839             3           1                  1  2024-02-19   \n",
       "1244    6916049             3           1                  1  2024-02-20   \n",
       "1274    6113053             6           1                  1  2024-02-24   \n",
       "1292    6306469             6           1                  1  2024-01-02   \n",
       "\n",
       "     tipo_venta    nom_producto  precio_unitario  categoria  costo_unitario  \\\n",
       "44    DOMICILIO  PACIFICO MEGA            2500.0       MEGA           250.0   \n",
       "87       TIENDA        VICTORIA           2600.0  BARRILITO           260.0   \n",
       "103   DOMICILIO          BUD LG           3000.0    PREMIUM           300.0   \n",
       "501      TIENDA        VICTORIA           2600.0  BARRILITO           260.0   \n",
       "528      TIENDA        VICTORIA           2600.0  BARRILITO           260.0   \n",
       "608   DOMICILIO        VICTORIA           2600.0  BARRILITO           260.0   \n",
       "1000     TIENDA          BUD LG           3000.0    PREMIUM           300.0   \n",
       "1010     TIENDA        VICTORIA           2600.0  BARRILITO           260.0   \n",
       "1026  DOMICILIO        VICTORIA           2600.0  BARRILITO           260.0   \n",
       "1244  DOMICILIO        VICTORIA           2600.0  BARRILITO           260.0   \n",
       "1274     TIENDA  PACIFICO MEGA            2500.0       MEGA           250.0   \n",
       "1292  DOMICILIO  PACIFICO MEGA            2500.0       MEGA           250.0   \n",
       "\n",
       "      ciudad  costo_asociado_al_domicilio  Ingresos  Costo_Total  Beneficio  \n",
       "44    BOGOTA                       3000.0    2500.0       3250.0     -750.0  \n",
       "87    BOGOTA                       3000.0    2600.0       3260.0     -660.0  \n",
       "103   BOGOTA                       3000.0    3000.0       3300.0     -300.0  \n",
       "501   BOGOTA                       3000.0    2600.0       3260.0     -660.0  \n",
       "528   BOGOTA                       3000.0    2600.0       3260.0     -660.0  \n",
       "608   BOGOTA                       3000.0    2600.0       3260.0     -660.0  \n",
       "1000  BOGOTA                       3000.0    3000.0       3300.0     -300.0  \n",
       "1010  BOGOTA                       3000.0    2600.0       3260.0     -660.0  \n",
       "1026  BOGOTA                       3000.0    2600.0       3260.0     -660.0  \n",
       "1244  BOGOTA                       3000.0    2600.0       3260.0     -660.0  \n",
       "1274  BOGOTA                       3000.0    2500.0       3250.0     -750.0  \n",
       "1292  BOGOTA                       3000.0    2500.0       3250.0     -750.0  "
      ]
     },
     "execution_count": 25,
     "metadata": {},
     "output_type": "execute_result"
    }
   ],
   "source": [
    "# Filtrar transacciones con beneficios negativos\n",
    "beneficios_negativos = ventas_completa[ventas_completa[\"Beneficio\"] < 0]\n",
    "beneficios_negativos"
   ]
  }
 ],
 "metadata": {
  "kernelspec": {
   "display_name": "Python 3",
   "language": "python",
   "name": "python3"
  },
  "language_info": {
   "codemirror_mode": {
    "name": "ipython",
    "version": 3
   },
   "file_extension": ".py",
   "mimetype": "text/x-python",
   "name": "python",
   "nbconvert_exporter": "python",
   "pygments_lexer": "ipython3",
   "version": "3.11.10"
  }
 },
 "nbformat": 4,
 "nbformat_minor": 2
}
